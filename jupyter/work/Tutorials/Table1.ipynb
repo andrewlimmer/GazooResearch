{
 "cells": [
  {
   "cell_type": "markdown",
   "id": "fb14ebe9-fcca-4ddb-b3c6-4947629139b1",
   "metadata": {},
   "source": [
    "# Creating Table1"
   ]
  },
  {
   "cell_type": "code",
   "execution_count": null,
   "id": "ccafed1b-048c-4286-9778-1abfcb8779f6",
   "metadata": {},
   "outputs": [],
   "source": [
    "from ClinicalDocumentUtils import Database\n",
    "from ClinicalDocumentUtils import TableOne as table1\n",
    "from datetime import datetime, timedelta\n",
    "import matplotlib.pyplot as plt\n",
    "import numpy as np"
   ]
  },
  {
   "cell_type": "markdown",
   "id": "a595144f-2f08-4cf8-ad75-657a3383376b",
   "metadata": {},
   "source": [
    "Connect to the database in the typical fashion"
   ]
  },
  {
   "cell_type": "code",
   "execution_count": null,
   "id": "ef27f2cf-33ab-430c-bea2-4b87a2ba9df9",
   "metadata": {},
   "outputs": [
    {
     "name": "stdout",
     "output_type": "stream",
     "text": [
      "encryption key: ········\n"
     ]
    },
    {
     "name": "stdout",
     "output_type": "stream",
     "text": [
      "Connected: {'user': 'postgres', 'channel_binding': 'prefer', 'dbname': 'clinical', 'host': 'clinical_db', 'port': '5432', 'options': '-c search_path=clinical_document,public', 'sslmode': 'require', 'sslcompression': '0', 'sslcertmode': 'allow', 'sslsni': '1', 'ssl_min_protocol_version': 'TLSv1.2', 'gssencmode': 'prefer', 'krbsrvname': 'postgres', 'gssdelegation': '0', 'target_session_attrs': 'any', 'load_balance_hosts': 'disable'}\n"
     ]
    }
   ],
   "source": [
    "d = Database()"
   ]
  },
  {
   "cell_type": "markdown",
   "id": "f974b594-b37f-480b-8580-92757323e832",
   "metadata": {},
   "source": [
    "## Get list of projects and their UUID"
   ]
  },
  {
   "cell_type": "code",
   "execution_count": null,
   "id": "f9b873ef-142e-499f-b2b2-b298eae96712",
   "metadata": {},
   "outputs": [],
   "source": [
    "d.fetch_projects()"
   ]
  },
  {
   "cell_type": "markdown",
   "id": "eabdf5cd-0536-41d8-a373-863bceeb9fe7",
   "metadata": {},
   "source": [
    "### Set Project UUID"
   ]
  },
  {
   "cell_type": "code",
   "execution_count": null,
   "id": "01c316cd-e64a-4ff0-8e6c-f3857954a846",
   "metadata": {},
   "outputs": [],
   "source": [
    "d.set_project_uuid('b544d4ef-d8ed-471f-b7fc-f258aa6c6198')"
   ]
  },
  {
   "cell_type": "markdown",
   "id": "cbc3bd6f-a587-4c3a-81a8-c0ae4967ad5e",
   "metadata": {},
   "source": [
    "# Generate list of MRNs\n",
    "Find patiens that meets the following parameters \\\n",
    "tag: 'diagnosis' \\\n",
    "attribute: 'diagnosis' \\\n",
    "attribute's value: 'c61 - Malignant neoplasm of prostate'"
   ]
  },
  {
   "cell_type": "code",
   "execution_count": null,
   "id": "bb62ce78-0518-4e30-b89c-f9eff2fa5140",
   "metadata": {},
   "outputs": [],
   "source": [
    "patient_filter=[{'tag': 'diagnosis', 'attribute': 'diagnosis', 'value': ['c61 - Malignant neoplasm of prostate']}]\n",
    "\n",
    "print(f\"{patient_filter=}\")\n",
    "mrns = d.get_mrns_where_filters(patient_filter)\n",
    "print(f\"mrns:{mrns}\")"
   ]
  },
  {
   "cell_type": "markdown",
   "id": "5d35bed1-1d84-48e0-aaa7-2c924ca1bb29",
   "metadata": {},
   "source": [
    "# Age Distribution\n",
    "Ages are calculated based on tag: 'dob' and a reference tag. \\\n",
    "We need a reference tag because we need to specify to calculate age. \\\n",
    "The reference_tag may have multiple occurances. For example, if the reference tag is 'c61:external-radiation', radiation may occur once with localized prostate cancer, and then again if he has oligometastatic cancer. \\\n",
    "<br>\n",
    "The result is a list of numbers representing years of age. A 'None' output means either the dob or reference_tag is not present or valid."
   ]
  },
  {
   "cell_type": "code",
   "execution_count": null,
   "id": "7f5f1dbb-5b06-4ea4-a86d-cf332c783b97",
   "metadata": {},
   "outputs": [],
   "source": [
    "# Tag used to calculate patient's age\n",
    "reference_tag = 'c61:external-radiation'\n",
    "occurance = 0 # First occurance of external-radiation\n",
    "ages = table1.age_distribution(d, mrns, reference_tag, reference_occurance=0)\n",
    "print(f\"{mrns=}\")\n",
    "print(f\"{ages=}\")"
   ]
  },
  {
   "cell_type": "markdown",
   "id": "dc424e88-6034-43b0-913d-9aaba0a49bc7",
   "metadata": {},
   "source": [
    "# Tag Distribution\n",
    "Gets a list of tag-attribute values, exactly 1 per patient. "
   ]
  },
  {
   "cell_type": "code",
   "execution_count": null,
   "id": "355b12fe-0809-4e0b-8ec3-d215ea59c37f",
   "metadata": {},
   "outputs": [],
   "source": [
    "icd10_tag = 'c61:pT'\n",
    "attribute = 'pT'\n",
    "occurance = 0\n",
    "values = table1.tag_distribution_by_occurance(d, mrns, icd10_tag, attribute, occurance)\n",
    "\n",
    "print(f\"{mrns=}\")\n",
    "print(f\"{values=}\")"
   ]
  },
  {
   "cell_type": "code",
   "execution_count": null,
   "id": "2aabc1e4-5af4-4fc5-849c-ee4885aaf2bf",
   "metadata": {},
   "outputs": [],
   "source": [
    "# Remove None Values\n",
    "values = ['unknown' if i is None else i for i in values]\n",
    "\n",
    "# Title and labels\n",
    "plt.title('Distribution of Data')\n",
    "plt.xlabel('T-Stage')\n",
    "plt.ylabel('Frequency')\n",
    "# Create a histogram\n",
    "plt.hist(values, bins=20)\n",
    "# Show the plot\n",
    "plt.show()"
   ]
  },
  {
   "cell_type": "markdown",
   "id": "49bb4a43-5cb8-4756-884e-73446be739f3",
   "metadata": {},
   "source": [
    "## Tags with mulitple occurances\n",
    "Some tags have multiple occurances, so you need to specify which one to present in the list.\n",
    "If you want the first occurance of psa, then make occurance = 0;\n",
    "If you want the second occurance of psa, then make occurance = 1;"
   ]
  },
  {
   "cell_type": "code",
   "execution_count": null,
   "id": "0a72fa4a-9ba0-4b9b-8dfa-2712810f4e1d",
   "metadata": {},
   "outputs": [],
   "source": [
    "icd10_tag = 'c61:psa'\n",
    "attribute = 'psa'\n",
    "occurance = 1\n",
    "values = table1.tag_distribution_by_occurance(d, mrns, icd10_tag, attribute, occurance)\n",
    "\n",
    "print(f\"{mrns=}\")\n",
    "print(f\"{values=}\")"
   ]
  },
  {
   "cell_type": "code",
   "execution_count": null,
   "id": "e379d8f1-0d4d-46ef-a717-86c066159246",
   "metadata": {},
   "outputs": [],
   "source": [
    "values = ['unknown' if i is None else i for i in values]\n",
    "\n",
    "# Title and labels\n",
    "plt.title('Distribution of Data')\n",
    "plt.xlabel('PSA')\n",
    "plt.ylabel('Frequency')\n",
    "# Create a histogram\n",
    "plt.hist(values, bins=5)\n",
    "# Show the plot\n",
    "plt.show()"
   ]
  },
  {
   "cell_type": "markdown",
   "id": "884974d6-53e9-436a-9e27-268753841700",
   "metadata": {},
   "source": [
    "## Tags with mulitple occurances\n",
    "Some tags have multiple occurances, so you need to specify which one to present in the list. \\\n",
    "If you want the occurance of psa closest to the tag 'c61:surgery'"
   ]
  },
  {
   "cell_type": "code",
   "execution_count": null,
   "id": "c143f5aa-413b-412f-aef4-5d230eb79670",
   "metadata": {},
   "outputs": [],
   "source": [
    "icd10_tag = 'c61:psa'\n",
    "attribute = 'psa'\n",
    "reference_icd10_tag = 'c61:surgery'\n",
    "reference_occurance = 0\n",
    "values = table1.tag_distribution_by_association(d, mrns, icd10_tag, attribute, reference_icd10_tag, reference_occurance)\n",
    "print(f\"{mrns=}\")\n",
    "print(f\"{values=}\")"
   ]
  },
  {
   "cell_type": "code",
   "execution_count": null,
   "id": "08aed165-688b-4edb-a591-83a352a00e20",
   "metadata": {},
   "outputs": [],
   "source": []
  },
  {
   "cell_type": "code",
   "execution_count": null,
   "id": "092e7768-34f7-4637-b05a-859e8d8881ef",
   "metadata": {},
   "outputs": [],
   "source": [
    "print('finished')"
   ]
  }
 ],
 "metadata": {
  "kernelspec": {
   "display_name": "Python 3 (ipykernel)",
   "language": "python",
   "name": "python3"
  },
  "language_info": {
   "codemirror_mode": {
    "name": "ipython",
    "version": 3
   },
   "file_extension": ".py",
   "mimetype": "text/x-python",
   "name": "python",
   "nbconvert_exporter": "python",
   "pygments_lexer": "ipython3",
   "version": "3.10.11"
  }
 },
 "nbformat": 4,
 "nbformat_minor": 5
}
