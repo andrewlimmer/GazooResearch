{
 "cells": [
  {
   "cell_type": "markdown",
   "id": "cc8b6b69-9325-4f54-9b8f-912b404eb562",
   "metadata": {},
   "source": [
    "import numpy as np\n",
    "2\n"
   ]
  },
  {
   "cell_type": "markdown",
   "id": "1ee4e09e-b6b4-489d-bc80-2e09498aeb5a",
   "metadata": {},
   "source": [
    "# Find MRNs With Matching Tag Sequence\n",
    "Often one wants to find patients with matching sequence of treaments. For example, if you want to find patients with prostate cacner with who underwent surgery then adjuvant radiotherapy which starts within 60 days.\n",
    "\n",
    "surgery -> &lt;= 60 days -> radiation\n"
   ]
  },
  {
   "cell_type": "markdown",
   "id": "15c42ecc-18de-4be5-940e-887cc69a89cc",
   "metadata": {},
   "source": [
    "## First Load the Database Package"
   ]
  },
  {
   "cell_type": "code",
   "execution_count": null,
   "id": "703e7fe2-888b-4423-9a70-afa51d6c7d47",
   "metadata": {},
   "outputs": [],
   "source": [
    "from ClinicalDocumentUtils import Database"
   ]
  },
  {
   "cell_type": "markdown",
   "id": "06d8d78f-2f91-4a4e-a5fb-2721ad8b5728",
   "metadata": {},
   "source": [
    "## Login to the database"
   ]
  },
  {
   "cell_type": "code",
   "execution_count": null,
   "id": "3b6a2cd1-da35-46ae-8a33-392682b30b12",
   "metadata": {},
   "outputs": [
    {
     "name": "stdout",
     "output_type": "stream",
     "text": [
      "encryption key: ········\n"
     ]
    },
    {
     "name": "stdout",
     "output_type": "stream",
     "text": [
      "Connected: {'user': 'postgres', 'channel_binding': 'prefer', 'dbname': 'clinical', 'host': 'clinical_db', 'port': '5432', 'options': '-c search_path=clinical_document,public', 'sslmode': 'require', 'sslcompression': '0', 'sslcertmode': 'allow', 'sslsni': '1', 'ssl_min_protocol_version': 'TLSv1.2', 'gssencmode': 'prefer', 'krbsrvname': 'postgres', 'gssdelegation': '0', 'target_session_attrs': 'any', 'load_balance_hosts': 'disable'}\n"
     ]
    }
   ],
   "source": [
    "d = Database()"
   ]
  },
  {
   "cell_type": "markdown",
   "id": "66536d4d-d892-4a09-82a9-bd4552741b81",
   "metadata": {},
   "source": [
    "## Get list of projects and their UUID"
   ]
  },
  {
   "cell_type": "code",
   "execution_count": null,
   "id": "ad4e3849-cab3-44f2-a15c-6a77d9d47a6e",
   "metadata": {},
   "outputs": [],
   "source": [
    "d.fetch_projects()"
   ]
  },
  {
   "cell_type": "markdown",
   "id": "81fae501-d35d-45b3-8ca2-dd40a0b50b89",
   "metadata": {},
   "source": [
    "### Set Project UUID"
   ]
  },
  {
   "cell_type": "code",
   "execution_count": null,
   "id": "b6c73940-5a98-41d4-bcb0-e39630022fb8",
   "metadata": {},
   "outputs": [],
   "source": [
    "d.set_project_uuid('b544d4ef-d8ed-471f-b7fc-f258aa6c6198')"
   ]
  },
  {
   "cell_type": "markdown",
   "id": "4bba7e60-5073-41ea-8a41-03d17bce6342",
   "metadata": {},
   "source": [
    "## Specify the following parameters\n",
    "### Project UUID\n",
    "project_uuid -> Specifies exactly which project you want to search.\n",
    "\n",
    "### Filters\n",
    "```\n",
    "filters = [\n",
    "{'icd10':'c61', 'tag': 'surgery'}, \n",
    "{'icd10':'c61', 'tag': 'external-radiation'} \n",
    "{'icd10':'c61', 'tag': 'androgen-deprivation-therapy'} \n",
    "]\n",
    "```\n",
    "This means that we want the following seqeunce of treatments\n",
    "<br><br>\n",
    "surgery -> external-radiation -> androgen-deprivation-therapy\n",
    "\n",
    "\n",
    "### Time Deltas\n",
    "Each number represents the maxiumum number of days allowed between each tag. -1 means any number of days.\n",
    "```\n",
    "max_time_deltas = [60, -1]\n",
    "```\n",
    "This means the following:<br><br>\n",
    "surgery ->  &lt;= 60 days -> external-radiation -> any amount days -> androgen-deprivation-therapy\n",
    "\n"
   ]
  },
  {
   "cell_type": "code",
   "execution_count": null,
   "id": "d83f8544-b6c4-44c8-b959-c0e126d92345",
   "metadata": {},
   "outputs": [],
   "source": [
    "filters = [\n",
    "    {'icd10':'c61', 'tag': 'surgery'},\n",
    "    {'icd10':'c61', 'tag': 'external-radiation'},\n",
    "    {'icd10':'c61', 'tag': 'androgen-deprivation-therapy'}\n",
    "]\n",
    "\n",
    "max_time_deltas = [-1, 60] # Days\n",
    "print(f\"mrns:{d.get_mrns_where_sequence(filters, max_time_deltas)}\")"
   ]
  },
  {
   "cell_type": "code",
   "execution_count": null,
   "id": "9e607fbc-d087-436a-bd4b-7b42642f0977",
   "metadata": {},
   "outputs": [],
   "source": [
    "filters = [\n",
    "    {'icd10':'c61', 'tag': 'surgery'},\n",
    "    {'icd10':'c61', 'tag': 'external-radiation'},\n",
    "]\n",
    "\n",
    "max_time_deltas = [-1] # Days\n",
    "print(f\"mrns:{d.get_mrns_where_sequence(filters, max_time_deltas)}\")"
   ]
  },
  {
   "cell_type": "markdown",
   "id": "8c8b865b-df50-4ea7-8a20-8776f057e6f6",
   "metadata": {},
   "source": [
    "# Find Sequence For Specific Patient"
   ]
  },
  {
   "cell_type": "code",
   "execution_count": null,
   "id": "9f100212-b2a2-4730-800a-8ba088300c10",
   "metadata": {},
   "outputs": [],
   "source": [
    "mrn='333333'\n",
    "filters = [\n",
    "{'icd10':'c61', 'tag': 'surgery'},\n",
    "{'icd10':'c61', 'tag': 'external-radiation'},\n",
    "{'icd10':'c61', 'tag': 'androgen-deprivation-therapy'}\n",
    "]\n",
    "max_time_deltas = [4000, -1] # Days\n",
    "\n",
    "d.does_sequence_exist(mrn, filters, max_time_deltas)"
   ]
  },
  {
   "cell_type": "code",
   "execution_count": null,
   "id": "c8d546fe-4106-45b6-a70f-63664eff8e4d",
   "metadata": {},
   "outputs": [],
   "source": [
    "mrn='888888'\n",
    "\n",
    "filters = [\n",
    "{'icd10':'c61', 'tag': 'external-radiation'},\n",
    "{'icd10':'c61', 'tag': 'surgery'},\n",
    "]\n",
    "\n",
    "max_time_deltas = [-1] # Days\n",
    "d.does_sequence_exist(mrn, filters, max_time_deltas)"
   ]
  },
  {
   "cell_type": "code",
   "execution_count": null,
   "id": "e6b8cbeb-e61e-4a95-a51d-af44ba0ec709",
   "metadata": {},
   "outputs": [],
   "source": []
  },
  {
   "cell_type": "code",
   "execution_count": null,
   "id": "a5cd7495-95c7-4451-9022-d8fd53e5577e",
   "metadata": {},
   "outputs": [],
   "source": []
  }
 ],
 "metadata": {
  "kernelspec": {
   "display_name": "Python 3 (ipykernel)",
   "language": "python",
   "name": "python3"
  },
  "language_info": {
   "codemirror_mode": {
    "name": "ipython",
    "version": 3
   },
   "file_extension": ".py",
   "mimetype": "text/x-python",
   "name": "python",
   "nbconvert_exporter": "python",
   "pygments_lexer": "ipython3",
   "version": "3.10.11"
  }
 },
 "nbformat": 4,
 "nbformat_minor": 5
}
