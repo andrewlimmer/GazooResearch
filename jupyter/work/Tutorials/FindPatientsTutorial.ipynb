{
 "cells": [
  {
   "cell_type": "markdown",
   "id": "bd70c6af-c7d3-42a9-bcf5-e40cd12956eb",
   "metadata": {},
   "source": [
    "## How To Find Patients Meeting Specific Criteria"
   ]
  },
  {
   "cell_type": "code",
   "execution_count": 1,
   "id": "8a3ba7a5-eda7-4798-ab57-0b6dc6b2176e",
   "metadata": {
    "tags": []
   },
   "outputs": [],
   "source": [
    "from ClinicalDocumentUtils import Database"
   ]
  },
  {
   "cell_type": "code",
   "execution_count": 2,
   "id": "dea8c7df-592a-41f7-8832-d9c14edef64d",
   "metadata": {
    "tags": []
   },
   "outputs": [
    {
     "name": "stdout",
     "output_type": "stream",
     "text": [
      "Connect To Database\n"
     ]
    },
    {
     "name": "stdin",
     "output_type": "stream",
     "text": [
      "encryption key: ········\n"
     ]
    },
    {
     "name": "stdout",
     "output_type": "stream",
     "text": [
      "Connected: {'user': 'postgres', 'channel_binding': 'prefer', 'dbname': 'clinical', 'host': 'clinical_db', 'port': '5432', 'options': '-c search_path=clinical_document,public', 'sslmode': 'require', 'sslcompression': '0', 'sslcertmode': 'allow', 'sslsni': '1', 'ssl_min_protocol_version': 'TLSv1.2', 'gssencmode': 'prefer', 'krbsrvname': 'postgres', 'gssdelegation': '0', 'target_session_attrs': 'any', 'load_balance_hosts': 'disable'}\n"
     ]
    }
   ],
   "source": [
    "d = Database()"
   ]
  },
  {
   "cell_type": "markdown",
   "id": "b364e159-740f-4c9f-b7e4-3e4aff4d30d9",
   "metadata": {},
   "source": [
    "## Get list of projects and their UUID"
   ]
  },
  {
   "cell_type": "code",
   "execution_count": 3,
   "id": "e095daae-97c4-441c-9baf-3a9043075362",
   "metadata": {},
   "outputs": [
    {
     "data": {
      "text/html": [
       "<div>\n",
       "<style scoped>\n",
       "    .dataframe tbody tr th:only-of-type {\n",
       "        vertical-align: middle;\n",
       "    }\n",
       "\n",
       "    .dataframe tbody tr th {\n",
       "        vertical-align: top;\n",
       "    }\n",
       "\n",
       "    .dataframe thead th {\n",
       "        text-align: right;\n",
       "    }\n",
       "</style>\n",
       "<table border=\"1\" class=\"dataframe\">\n",
       "  <thead>\n",
       "    <tr style=\"text-align: right;\">\n",
       "      <th></th>\n",
       "      <th>name</th>\n",
       "      <th>description</th>\n",
       "      <th>uuid</th>\n",
       "    </tr>\n",
       "  </thead>\n",
       "  <tbody>\n",
       "    <tr>\n",
       "      <th>0</th>\n",
       "      <td>test</td>\n",
       "      <td>test</td>\n",
       "      <td>00e50190-f573-4750-8946-70b70f2ca70c</td>\n",
       "    </tr>\n",
       "  </tbody>\n",
       "</table>\n",
       "</div>"
      ],
      "text/plain": [
       "   name description                                  uuid\n",
       "0  test        test  00e50190-f573-4750-8946-70b70f2ca70c"
      ]
     },
     "execution_count": 3,
     "metadata": {},
     "output_type": "execute_result"
    }
   ],
   "source": [
    "d.fetch_projects()"
   ]
  },
  {
   "cell_type": "markdown",
   "id": "719cc652-51f9-494f-b495-36b348946dbd",
   "metadata": {},
   "source": [
    "### Set Project UUID"
   ]
  },
  {
   "cell_type": "code",
   "execution_count": 4,
   "id": "55936e73-c766-45d1-962d-1ffdf104821b",
   "metadata": {},
   "outputs": [
    {
     "name": "stdout",
     "output_type": "stream",
     "text": [
      "project_uuid: 00e50190-f573-4750-8946-70b70f2ca70c\n"
     ]
    }
   ],
   "source": [
    "d.set_project_uuid('00e50190-f573-4750-8946-70b70f2ca70c')"
   ]
  },
  {
   "cell_type": "markdown",
   "id": "e3579248-0715-48fc-9b2f-2ea44544a6e8",
   "metadata": {},
   "source": [
    "## Data Structure\n",
    "To understand how to extract information, you should understand the basic 4D data structure of ClinicalDocument. \n",
    "![alt text](./images/datastructure.png)\n"
   ]
  },
  {
   "cell_type": "markdown",
   "id": "dd0367d6-d4f7-4174-91f6-27e4535bb65f",
   "metadata": {
    "tags": []
   },
   "source": [
    "## Patient Filter Parameters\n",
    "\n",
    "The filter is an array of json objects. The structure follows:\n",
    "```\n",
    "filter = [ {'icd10':<string>, 'tag':<string>, 'attribute':<string>, 'value':<array>},...]\n",
    "```\n",
    "You can see from the above data structure, to obtain mrns you just have to specify the filter."
   ]
  },
  {
   "cell_type": "markdown",
   "id": "3b9ba8ab-eebc-4e52-bb83-74d36d2699a9",
   "metadata": {},
   "source": [
    "### Example 1: \n",
    "Find all patient mrns that have a dob tag.\n"
   ]
  },
  {
   "cell_type": "code",
   "execution_count": 5,
   "id": "85f1aafc-69bf-4e8e-9d16-1c7894c1be5b",
   "metadata": {
    "tags": []
   },
   "outputs": [
    {
     "data": {
      "text/plain": [
       "['s222222', 's111111']"
      ]
     },
     "execution_count": 5,
     "metadata": {},
     "output_type": "execute_result"
    }
   ],
   "source": [
    "filters = [\n",
    "{'icd10':None, 'tag': 'dob'},\n",
    "]\n",
    "d.get_mrns_where_filters(filters)"
   ]
  },
  {
   "cell_type": "markdown",
   "id": "c8772bee-179f-4d41-980e-dbbb0e086560",
   "metadata": {},
   "source": [
    "### Example 2:\n",
    "Find all patient mrns that have BOTH 'diagnosis' AND 'dob' tags"
   ]
  },
  {
   "cell_type": "code",
   "execution_count": 8,
   "id": "885b9996-627f-4169-8f12-6e671c1c1354",
   "metadata": {
    "tags": []
   },
   "outputs": [
    {
     "name": "stdout",
     "output_type": "stream",
     "text": [
      "patient_filter=[{'icd10': None, 'tag': 'dob'}, {'icd10': None, 'tag': 'diagnosis'}]\n",
      "\n",
      "mrns:['s222222', 's111111']\n"
     ]
    }
   ],
   "source": [
    "patient_filter=[{'icd10':None, 'tag': 'dob'},\n",
    "                {'icd10':None, 'tag': 'diagnosis'}]\n",
    "\n",
    "print(f\"{patient_filter=}\")\n",
    "print()\n",
    "print(f\"mrns:{d.get_mrns_where_filters(patient_filter)}\")"
   ]
  },
  {
   "cell_type": "markdown",
   "id": "e77c5a0f-8352-4aae-8abe-4b272767d891",
   "metadata": {},
   "source": [
    "### Example 3:\n",
    "Find all patients that have tags 'dob' AND 'T' with the attribute 'T'"
   ]
  },
  {
   "cell_type": "code",
   "execution_count": 39,
   "id": "6ce90ca9-9092-4f11-87fa-e5a7c362bbb9",
   "metadata": {
    "tags": []
   },
   "outputs": [
    {
     "name": "stdout",
     "output_type": "stream",
     "text": [
      "patient_filter=[{'icd10': None, 'tag': 'dob'}, {'icd10': 'c61', 'tag': 'pT', 'attribute': 'pT'}]\n",
      "\n",
      "mrns:['333333' '111111' '666666' '777777']\n"
     ]
    }
   ],
   "source": [
    "patient_filter=[{'icd10':None, 'tag': 'dob'},\n",
    "                {'icd10':'c61', 'tag': 'pT', 'attribute':'pT' }]\n",
    "\n",
    "print(f\"{patient_filter=}\")\n",
    "print()\n",
    "print(f\"mrns:{d.get_mrns_where_filters(patient_filter)}\")"
   ]
  },
  {
   "cell_type": "markdown",
   "id": "211561e8-de30-4857-b6b0-d57c7cf0440c",
   "metadata": {},
   "source": [
    "### Example 4:\n",
    "Find all patients with the tag 'diagnosis' with the attribute named 'value' with the value \"c61 - Malignant neoplasm of prostate\""
   ]
  },
  {
   "cell_type": "code",
   "execution_count": 40,
   "id": "514786e7-0754-49e2-94e4-049c4f4221c1",
   "metadata": {
    "tags": []
   },
   "outputs": [
    {
     "name": "stdout",
     "output_type": "stream",
     "text": [
      "patient_filter=[{'icd10': None, 'tag': 'diagnosis', 'attribute': 'diagnosis', 'value': ['c61 - Malignant neoplasm of prostate']}]\n",
      "\n",
      "mrns:['333333' '888888' '111111' '555555' '666666' '777777']\n",
      "\n"
     ]
    }
   ],
   "source": [
    "patient_filter=[{'icd10':None, 'tag': 'diagnosis', 'attribute': 'diagnosis', 'value': ['c61 - Malignant neoplasm of prostate']}]\n",
    "print(f\"{patient_filter=}\")\n",
    "print()\n",
    "print(f\"mrns:{d.get_mrns_where_filters(patient_filter)}\")\n",
    "print()"
   ]
  },
  {
   "cell_type": "markdown",
   "id": "28df4bea-b87f-4be0-8ff3-1d8cf3905e76",
   "metadata": {},
   "source": [
    "### Example 5:\n",
    "\n",
    "'%' is a wildcard\n",
    "An underscore (_) in pattern stands for (matches) any single character.\\\n",
    "Reference: https://www.postgresql.org/docs/current/functions-matching.html\n",
    "\n",
    "Find patient with a the diagnosis of 'c61 - Malignant neoplasm of prostate' AND and pT-stage including 'T2a', and 'T3a'"
   ]
  },
  {
   "cell_type": "code",
   "execution_count": 41,
   "id": "8f6f5b4c-f60e-462d-9ba5-265162e3aea0",
   "metadata": {
    "tags": []
   },
   "outputs": [
    {
     "name": "stdout",
     "output_type": "stream",
     "text": [
      "patient_filter=[{'icd10': None, 'tag': 'diagnosis', 'attribute': 'diagnosis', 'value': ['c61 - Malignant neoplasm of prostate']}, {'icd10': 'c61', 'tag': 'pT', 'attribute': 'pT', 'value': ['T2c', 'T3a']}]\n",
      "\n",
      "mrns:['333333' '111111' '666666' '777777']\n"
     ]
    }
   ],
   "source": [
    "# Structure [{tag:<string>, attribute:<string>, value:<array>},...]\n",
    "# Searches for patients with the diagnosis: \"C61;Malignant_neoplasm_of_prostate\" AND whose T stage is 'Tx' OR 'T3'\n",
    "patient_filter=[{'icd10':None, 'tag': 'diagnosis', 'attribute': 'diagnosis', 'value': ['c61 - Malignant neoplasm of prostate']}, \n",
    "                  {'icd10':'c61', 'tag': 'pT', 'attribute': 'pT', 'value': ['T2c', 'T3a']},]\n",
    "print(f\"{patient_filter=}\")\n",
    "print()\n",
    "print(f\"mrns:{d.get_mrns_where_filters(patient_filter)}\")\n"
   ]
  },
  {
   "cell_type": "markdown",
   "id": "9dec1fa4-0c48-4ee0-9eeb-39e48e49bf67",
   "metadata": {},
   "source": [
    "### Example 6:\n",
    "\n",
    "'%' is a wildcard\n",
    "An underscore (_) in pattern stands for (matches) any single character\n",
    "Reference: https://www.postgresql.org/docs/current/functions-matching.html\n",
    "\n",
    "Find patient with a the diagnosis of 'c61 - Malignant neoplasm of prostate' AND and any pT-stage starting with T3"
   ]
  },
  {
   "cell_type": "code",
   "execution_count": 42,
   "id": "304f6c2c-0192-4f34-adf3-c42b5486fe8d",
   "metadata": {
    "tags": []
   },
   "outputs": [
    {
     "name": "stdout",
     "output_type": "stream",
     "text": [
      "patient_filter=[{'icd10': None, 'tag': 'diagnosis', 'attribute': 'diagnosis', 'value': ['c61 - Malignant neoplasm of prostate']}, {'icd10': 'c61', 'tag': 'pT', 'attribute': 'pT', 'value': ['T3%']}]\n",
      "\n",
      "mrns:['333333' '666666']\n"
     ]
    }
   ],
   "source": [
    "# Structure [{tag:<string>, attribute:<string>, value:<array>},...]\n",
    "# Searches for patients with the diagnosis: \"C61;Malignant_neoplasm_of_prostate\" AND whose T stage is 'Tx' OR 'T3'\n",
    "patient_filter=[{'icd10':None, 'tag': 'diagnosis', 'attribute': 'diagnosis', 'value': ['c61 - Malignant neoplasm of prostate']}, \n",
    "                  {'icd10':'c61', 'tag': 'pT', 'attribute': 'pT', 'value': ['T3%']},]\n",
    "print(f\"{patient_filter=}\")\n",
    "print()\n",
    "print(f\"mrns:{d.get_mrns_where_filters(patient_filter)}\")"
   ]
  },
  {
   "cell_type": "markdown",
   "id": "ce203712-83c0-4a3a-b38d-2fc37b86a106",
   "metadata": {},
   "source": [
    "## Close Database Class"
   ]
  },
  {
   "cell_type": "code",
   "execution_count": 43,
   "id": "86143818-7fbc-4121-8c25-cba1b8790292",
   "metadata": {
    "tags": []
   },
   "outputs": [],
   "source": [
    "del d"
   ]
  },
  {
   "cell_type": "code",
   "execution_count": null,
   "id": "e2c7f0cd-7108-4f46-8b25-1e2c763dcfcd",
   "metadata": {},
   "outputs": [],
   "source": []
  }
 ],
 "metadata": {
  "kernelspec": {
   "display_name": "Python 3 (ipykernel)",
   "language": "python",
   "name": "python3"
  },
  "language_info": {
   "codemirror_mode": {
    "name": "ipython",
    "version": 3
   },
   "file_extension": ".py",
   "mimetype": "text/x-python",
   "name": "python",
   "nbconvert_exporter": "python",
   "pygments_lexer": "ipython3",
   "version": "3.10.11"
  }
 },
 "nbformat": 4,
 "nbformat_minor": 5
}
