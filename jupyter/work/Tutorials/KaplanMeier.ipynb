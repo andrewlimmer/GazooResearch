{
 "cells": [
  {
   "cell_type": "markdown",
   "id": "70122cdd-ada2-4de7-88f9-55fff4f3a770",
   "metadata": {},
   "source": [
    "# Generate Kaplan Meier Curves "
   ]
  },
  {
   "cell_type": "markdown",
   "id": "bad3f8d9-1837-4479-b9a8-6f9672c99ae7",
   "metadata": {},
   "source": [
    "### Install Necessary Plotting Library\n",
    "To plot kaplan meier curves the _lifelines_ library is required "
   ]
  },
  {
   "cell_type": "code",
   "execution_count": 1,
   "id": "a4f09749-c916-43e1-935c-0748a773c04f",
   "metadata": {
    "tags": []
   },
   "outputs": [
    {
     "name": "stdout",
     "output_type": "stream",
     "text": [
      "\u001b[33mWARNING: Running pip as the 'root' user can result in broken permissions and conflicting behaviour with the system package manager. It is recommended to use a virtual environment instead: https://pip.pypa.io/warnings/venv\u001b[0m\u001b[33m\n",
      "\u001b[0m"
     ]
    }
   ],
   "source": [
    "!pip install lifelines -q"
   ]
  },
  {
   "cell_type": "code",
   "execution_count": 3,
   "id": "63c2f98d-ca11-4fb0-b346-cd70a3a49c63",
   "metadata": {
    "tags": []
   },
   "outputs": [],
   "source": [
    "from lifelines import KaplanMeierFitter\n",
    "import matplotlib.pyplot as plt"
   ]
  },
  {
   "cell_type": "code",
   "execution_count": 4,
   "id": "18ef59fb-4230-4f5a-ba5f-c94dec3dfb6b",
   "metadata": {
    "tags": []
   },
   "outputs": [],
   "source": [
    "from ClinicalDocumentUtils import Database"
   ]
  },
  {
   "cell_type": "markdown",
   "id": "ffb9c821-69d3-4870-8c9d-4ec4a41f7f1d",
   "metadata": {},
   "source": [
    "## Find prostate cancer patients\n",
    "Use the Database Class to find mrns for prostate cancer patients"
   ]
  },
  {
   "cell_type": "code",
   "execution_count": 5,
   "id": "998cc7f9-1424-40e3-8ffb-08f872047d9e",
   "metadata": {
    "tags": []
   },
   "outputs": [
    {
     "name": "stdout",
     "output_type": "stream",
     "text": [
      "Connect To Database\n"
     ]
    },
    {
     "name": "stdin",
     "output_type": "stream",
     "text": [
      "encryption key: ········\n"
     ]
    },
    {
     "name": "stdout",
     "output_type": "stream",
     "text": [
      "Connected: {'user': 'postgres', 'channel_binding': 'prefer', 'dbname': 'clinical', 'host': 'clinical_db', 'port': '5432', 'options': '-c search_path=clinical_document,public', 'sslmode': 'require', 'sslcompression': '0', 'sslcertmode': 'allow', 'sslsni': '1', 'ssl_min_protocol_version': 'TLSv1.2', 'gssencmode': 'prefer', 'krbsrvname': 'postgres', 'gssdelegation': '0', 'target_session_attrs': 'any', 'load_balance_hosts': 'disable'}\n"
     ]
    }
   ],
   "source": [
    "d = Database()"
   ]
  },
  {
   "cell_type": "markdown",
   "id": "ec9cf6df-5a85-4fc8-b22d-cf58b078e45f",
   "metadata": {},
   "source": [
    "## Get list of projects and their UUID"
   ]
  },
  {
   "cell_type": "code",
   "execution_count": 6,
   "id": "e5a284c6-f487-4552-a527-5a8d7344ddcf",
   "metadata": {},
   "outputs": [
    {
     "data": {
      "text/html": [
       "<div>\n",
       "<style scoped>\n",
       "    .dataframe tbody tr th:only-of-type {\n",
       "        vertical-align: middle;\n",
       "    }\n",
       "\n",
       "    .dataframe tbody tr th {\n",
       "        vertical-align: top;\n",
       "    }\n",
       "\n",
       "    .dataframe thead th {\n",
       "        text-align: right;\n",
       "    }\n",
       "</style>\n",
       "<table border=\"1\" class=\"dataframe\">\n",
       "  <thead>\n",
       "    <tr style=\"text-align: right;\">\n",
       "      <th></th>\n",
       "      <th>name</th>\n",
       "      <th>description</th>\n",
       "      <th>uuid</th>\n",
       "    </tr>\n",
       "  </thead>\n",
       "  <tbody>\n",
       "    <tr>\n",
       "      <th>0</th>\n",
       "      <td>test</td>\n",
       "      <td>test</td>\n",
       "      <td>4b29ea29-4885-4bd0-8928-0d6ac21543b8</td>\n",
       "    </tr>\n",
       "  </tbody>\n",
       "</table>\n",
       "</div>"
      ],
      "text/plain": [
       "   name description                                  uuid\n",
       "0  test        test  4b29ea29-4885-4bd0-8928-0d6ac21543b8"
      ]
     },
     "execution_count": 6,
     "metadata": {},
     "output_type": "execute_result"
    }
   ],
   "source": [
    "d.fetch_projects()"
   ]
  },
  {
   "cell_type": "markdown",
   "id": "1c9f750b-0dd6-4c71-8a3c-1fda5c0721f4",
   "metadata": {},
   "source": [
    "### Set Project UUID"
   ]
  },
  {
   "cell_type": "code",
   "execution_count": 7,
   "id": "549669e1-ed28-475a-ab23-c6c87f8d52c8",
   "metadata": {},
   "outputs": [
    {
     "name": "stdout",
     "output_type": "stream",
     "text": [
      "project_uuid: 4b29ea29-4885-4bd0-8928-0d6ac21543b8\n"
     ]
    }
   ],
   "source": [
    "d.set_project_uuid('4b29ea29-4885-4bd0-8928-0d6ac21543b8')"
   ]
  },
  {
   "cell_type": "code",
   "execution_count": 20,
   "id": "62763016-e899-4b1c-9521-dc452c41064d",
   "metadata": {
    "tags": []
   },
   "outputs": [
    {
     "name": "stdout",
     "output_type": "stream",
     "text": [
      "patient_filter=[{'icd10': None, 'tag': 'diagnosis', 'attribute': 'diagnosis', 'value': ['c61 - Malignant neoplasm of prostate']}]\n",
      "mrns:['333333', '888888', '111111', '555555', '666666', '777777']\n"
     ]
    }
   ],
   "source": [
    "patient_filter=[{'icd10':None, 'tag':'diagnosis', 'attribute': 'diagnosis', 'value': ['c61 - Malignant neoplasm of prostate']}]\n",
    "\n",
    "print(f\"{patient_filter=}\")\n",
    "mrns = d.get_mrns_where_filters(patient_filter)\n",
    "print(f\"mrns:{mrns}\")\n"
   ]
  },
  {
   "cell_type": "markdown",
   "id": "2e66ebc2-9616-4daa-ab6c-9fd172ab9924",
   "metadata": {},
   "source": [
    "## Define start and event\n",
    "What tag defines the start time (eg. surgery, radiation)\n",
    "What tag defines an event (eg. death, biochemical_progression)"
   ]
  },
  {
   "cell_type": "code",
   "execution_count": 21,
   "id": "2001d213-b57e-4e83-aedf-e5bb4b67a414",
   "metadata": {
    "tags": []
   },
   "outputs": [],
   "source": [
    "icd10 = 'c61'\n",
    "start_tag = 'surgery'\n",
    "event_tags = ['biochemical-progression', 'death']"
   ]
  },
  {
   "cell_type": "markdown",
   "id": "55d7efb7-3702-4942-a24a-6b9c3db01f91",
   "metadata": {},
   "source": [
    "### Use the method _kaplan_meier_ to get kaplan meier data"
   ]
  },
  {
   "cell_type": "code",
   "execution_count": 22,
   "id": "727327e2-3b86-454b-880f-b4fdf83a383b",
   "metadata": {
    "tags": []
   },
   "outputs": [
    {
     "data": {
      "text/plain": [
       "{'mrns': ['333333', '111111', '555555', '666666', '777777'],\n",
       " 'durations': [1144, 3339, 1134, 530, 676],\n",
       " 'events': [0, 1, 1, 1, 1]}"
      ]
     },
     "execution_count": 22,
     "metadata": {},
     "output_type": "execute_result"
    }
   ],
   "source": [
    "output = d.kaplan_meier(mrns, icd10, start_tag, event_tags)\n",
    "output"
   ]
  },
  {
   "cell_type": "markdown",
   "id": "cbe99e85-5532-4faf-a0c7-da6ad09be687",
   "metadata": {},
   "source": [
    "### Plot The Kaplan Meier Curve"
   ]
  },
  {
   "cell_type": "code",
   "execution_count": 23,
   "id": "dce0c7ad-926f-4800-9a2e-6b0ab5937d32",
   "metadata": {
    "tags": []
   },
   "outputs": [
    {
     "data": {
      "image/png": "[encoded data removed]",
      "text/plain": [
       "<Figure size 640x480 with 2 Axes>"
      ]
     },
     "metadata": {},
     "output_type": "display_data"
    }
   ],
   "source": [
    "# Extract Data\n",
    "mrns = output['mrns']\n",
    "durations = output['durations']\n",
    "events = output['events']\n",
    "\n",
    "# Generate Kaplan Meier\n",
    "kmf = KaplanMeierFitter()\n",
    "kmf.fit(durations, event_observed=events)\n",
    "kmf.plot_survival_function(at_risk_counts=True)\n",
    "plt.title('Kaplan-Meier Curve')\n",
    "plt.show()\n",
    "plt.close()"
   ]
  },
  {
   "cell_type": "code",
   "execution_count": 26,
   "id": "ad38c50a-1bd6-4f17-ae5b-37c31ba39014",
   "metadata": {},
   "outputs": [
    {
     "data": {
      "text/plain": [
       "{'mrns': ['333333', '111111', '555555', '666666', '777777'],\n",
       " 'durations': [1144, 3339, 1134, 530, 2117],\n",
       " 'events': [0, 1, 1, 1, 0]}"
      ]
     },
     "execution_count": 26,
     "metadata": {},
     "output_type": "execute_result"
    }
   ],
   "source": [
    "output = d.kaplan_meier(mrns, icd10, start_tag, event_tags)\n",
    "output"
   ]
  },
  {
   "cell_type": "code",
   "execution_count": 27,
   "id": "f10db321-1778-43ba-963d-9e6e1dd7fb43",
   "metadata": {},
   "outputs": [
    {
     "data": {
      "image/png": "[encoded data removed]",
      "text/plain": [
       "<Figure size 640x480 with 2 Axes>"
      ]
     },
     "metadata": {},
     "output_type": "display_data"
    }
   ],
   "source": [
    "# Extract Data\n",
    "mrns = output['mrns']\n",
    "durations = output['durations']\n",
    "events = output['events']\n",
    "\n",
    "# Generate Kaplan Meier\n",
    "kmf = KaplanMeierFitter()\n",
    "kmf.fit(durations, event_observed=events)\n",
    "kmf.plot_survival_function(at_risk_counts=True)\n",
    "plt.title('Kaplan-Meier Curve')\n",
    "plt.show()\n",
    "plt.close()"
   ]
  },
  {
   "cell_type": "code",
   "execution_count": null,
   "id": "689d5cf4-8b11-4237-803a-3e612118aadc",
   "metadata": {},
   "outputs": [],
   "source": []
  }
 ],
 "metadata": {
  "kernelspec": {
   "display_name": "Python 3 (ipykernel)",
   "language": "python",
   "name": "python3"
  },
  "language_info": {
   "codemirror_mode": {
    "name": "ipython",
    "version": 3
   },
   "file_extension": ".py",
   "mimetype": "text/x-python",
   "name": "python",
   "nbconvert_exporter": "python",
   "pygments_lexer": "ipython3",
   "version": "3.10.11"
  }
 },
 "nbformat": 4,
 "nbformat_minor": 5
}
