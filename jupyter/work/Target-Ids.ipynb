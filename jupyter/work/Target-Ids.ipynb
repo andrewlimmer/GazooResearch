{
 "cells": [
  {
   "cell_type": "markdown",
   "id": "4b0dc2cc-e228-429d-a585-97b5da710b21",
   "metadata": {},
   "source": [
    "Get Target Id with characteristics of icd10, tag, attribute, value\n"
   ]
  },
  {
   "cell_type": "code",
   "execution_count": 1,
   "id": "26b9e596-e6b8-439f-b7f2-2e6a8cb519c8",
   "metadata": {},
   "outputs": [],
   "source": [
    "from ClinicalDocumentUtils import Database\n",
    "import numpy as np\n",
    "import pandas as pd\n",
    "from utils.DB import DB"
   ]
  },
  {
   "cell_type": "code",
   "execution_count": 2,
   "id": "22e0fd2e-b379-4e01-950d-0d80a4c45d1f",
   "metadata": {},
   "outputs": [
    {
     "name": "stdout",
     "output_type": "stream",
     "text": [
      "Connect To Database\n"
     ]
    },
    {
     "name": "stdin",
     "output_type": "stream",
     "text": [
      "encryption key: ········\n"
     ]
    },
    {
     "name": "stdout",
     "output_type": "stream",
     "text": [
      "Connected: {'user': 'postgres', 'channel_binding': 'prefer', 'dbname': 'clinical', 'host': 'clinical_db', 'port': '5432', 'options': '-c search_path=clinical_document,public', 'sslmode': 'require', 'sslcompression': '0', 'sslcertmode': 'allow', 'sslsni': '1', 'ssl_min_protocol_version': 'TLSv1.2', 'gssencmode': 'prefer', 'krbsrvname': 'postgres', 'gssdelegation': '0', 'target_session_attrs': 'any', 'load_balance_hosts': 'disable'}\n"
     ]
    }
   ],
   "source": [
    "d = Database()"
   ]
  },
  {
   "cell_type": "code",
   "execution_count": 3,
   "id": "06a84464-45f0-4977-9a47-ff3a9e619570",
   "metadata": {},
   "outputs": [
    {
     "data": {
      "text/html": [
       "<div>\n",
       "<style scoped>\n",
       "    .dataframe tbody tr th:only-of-type {\n",
       "        vertical-align: middle;\n",
       "    }\n",
       "\n",
       "    .dataframe tbody tr th {\n",
       "        vertical-align: top;\n",
       "    }\n",
       "\n",
       "    .dataframe thead th {\n",
       "        text-align: right;\n",
       "    }\n",
       "</style>\n",
       "<table border=\"1\" class=\"dataframe\">\n",
       "  <thead>\n",
       "    <tr style=\"text-align: right;\">\n",
       "      <th></th>\n",
       "      <th>name</th>\n",
       "      <th>description</th>\n",
       "      <th>uuid</th>\n",
       "    </tr>\n",
       "  </thead>\n",
       "  <tbody>\n",
       "    <tr>\n",
       "      <th>0</th>\n",
       "      <td>test</td>\n",
       "      <td>test</td>\n",
       "      <td>00e50190-f573-4750-8946-70b70f2ca70c</td>\n",
       "    </tr>\n",
       "  </tbody>\n",
       "</table>\n",
       "</div>"
      ],
      "text/plain": [
       "   name description                                  uuid\n",
       "0  test        test  00e50190-f573-4750-8946-70b70f2ca70c"
      ]
     },
     "execution_count": 3,
     "metadata": {},
     "output_type": "execute_result"
    }
   ],
   "source": [
    "d.fetch_projects()"
   ]
  },
  {
   "cell_type": "code",
   "execution_count": 4,
   "id": "32a4007d-bcca-49f9-b64a-b75efd6d8f75",
   "metadata": {},
   "outputs": [
    {
     "name": "stdout",
     "output_type": "stream",
     "text": [
      "project_uuid: 00e50190-f573-4750-8946-70b70f2ca70c\n"
     ]
    }
   ],
   "source": [
    "d.set_project_uuid('00e50190-f573-4750-8946-70b70f2ca70c')"
   ]
  },
  {
   "cell_type": "code",
   "execution_count": 5,
   "id": "0d2fbeec-1f38-4fb3-a8a1-a5034be2fc60",
   "metadata": {},
   "outputs": [
    {
     "data": {
      "text/plain": [
       "['s222222', 's111111']"
      ]
     },
     "execution_count": 5,
     "metadata": {},
     "output_type": "execute_result"
    }
   ],
   "source": [
    "filters = [\n",
    "{'icd10':None, 'tag': 'diagnosis', 'attribute':'diagnosis', 'value':['c44.92 - Squamous cell carcinoma of skin, unspecified','c44.91 - Basal cell carcinoma of skin, unspecified']},\n",
    "]\n",
    "d.get_mrns_where_filters(filters)"
   ]
  },
  {
   "cell_type": "code",
   "execution_count": 6,
   "id": "17333bb9-63db-4e5d-a49a-baa2f544023a",
   "metadata": {},
   "outputs": [
    {
     "name": "stdout",
     "output_type": "stream",
     "text": [
      "Connect To Database\n"
     ]
    },
    {
     "name": "stdin",
     "output_type": "stream",
     "text": [
      "encryption key: ········\n"
     ]
    },
    {
     "name": "stdout",
     "output_type": "stream",
     "text": [
      "Connected: {'user': 'postgres', 'channel_binding': 'prefer', 'dbname': 'clinical', 'host': 'clinical_db', 'port': '5432', 'options': '-c search_path=clinical_document,public', 'sslmode': 'require', 'sslcompression': '0', 'sslcertmode': 'allow', 'sslsni': '1', 'ssl_min_protocol_version': 'TLSv1.2', 'gssencmode': 'prefer', 'krbsrvname': 'postgres', 'gssdelegation': '0', 'target_session_attrs': 'any', 'load_balance_hosts': 'disable'}\n"
     ]
    }
   ],
   "source": [
    "db = DB()"
   ]
  },
  {
   "cell_type": "code",
   "execution_count": 7,
   "id": "10216179-6eca-41b2-a2ad-946d1988c542",
   "metadata": {},
   "outputs": [],
   "source": [
    "# build OR sql query\n",
    "def build_logical_OR_LIKE_sql_query(column, values):\n",
    "  phase1 = f'\\' OR {column} LIKE \\''.join(values)\n",
    "  sql = f\"{column} LIKE \\'{phase1}\\'\"\n",
    "  return sql"
   ]
  },
  {
   "cell_type": "code",
   "execution_count": 46,
   "id": "585a560a-3bf0-4a0b-a06b-a327d155d4db",
   "metadata": {},
   "outputs": [
    {
     "name": "stdout",
     "output_type": "stream",
     "text": [
      " (icd10 LIKE 'c44.91' AND tag LIKE 'histology' AND obj->>'name' LIKE 'histology' AND (obj->>'value' LIKE 'nodular'))\n",
      " (icd10 LIKE 'c44.91' )\n",
      " (icd10 LIKE 'c44.91' AND tag LIKE 'histology' AND obj->>'name' LIKE 'histology' AND (obj->>'value' LIKE 'nodular'))\n",
      " (icd10 LIKE 'c44.91' )\n",
      " (icd10 LIKE 'c44.91' AND tag LIKE 'histology' AND obj->>'name' LIKE 'histology' AND (obj->>'value' LIKE 'nodular'))\n",
      " (icd10 LIKE 'c44.91' AND tag LIKE 'histology' AND obj->>'name' LIKE 'histology' AND (obj->>'value' LIKE 'nodular'))\n"
     ]
    },
    {
     "data": {
      "text/plain": [
       "array([['s222222', 'right-cheek'],\n",
       "       ['s222222', 'left-temple']], dtype='<U17')"
      ]
     },
     "execution_count": 46,
     "metadata": {},
     "output_type": "execute_result"
    }
   ],
   "source": [
    "def does_target_filter_exist(mrn, target_id, filters):\n",
    "    # Build SQL Logic\n",
    "    for idx, filter in enumerate(filters):\n",
    "        #print(filter)\n",
    "        logic = ''\n",
    "        \n",
    "        # New Search Term\n",
    "        #if idx != 0: logic = logic + ' OR'\n",
    "        \n",
    "        # If icd10 exists\n",
    "        if 'icd10' in filter.keys() and filter['icd10'] != None: \n",
    "            #print(f\"icd10:{filter['icd10']}\")\n",
    "            logic = logic + f\" (icd10 LIKE '{filter['icd10']}' \"\n",
    "        else:\n",
    "            logic = logic + f\" (icd10 IS NULL \"\n",
    "            \n",
    "        \n",
    "        # If icd10 exists\n",
    "        if 'tag' in filter.keys(): \n",
    "            #print(f\"tag:{filter['tag']}\")\n",
    "            logic = logic + f\"AND tag LIKE '{filter['tag']}' \"\n",
    "    \n",
    "        # If attribute exists\n",
    "        if 'attribute' in filter.keys(): \n",
    "            #print(f\"attribute:{filter['attribute']}\")\n",
    "            logic = logic + f\"AND obj->>'name' LIKE '{filter['attribute']}' \"\n",
    "    \n",
    "        # If attribute values exists\n",
    "        if 'value' in filter.keys(): \n",
    "            #print(f\"attribute values:{filter['value']}\")\n",
    "            logic = logic +'AND ('+ build_logical_OR_LIKE_sql_query(column=\"obj->>'value'\", values=filter[\"value\"]) +')'\n",
    "        logic = logic + ')'\n",
    "\n",
    "        print(logic)\n",
    "        # Does mrn-target meet criteria\n",
    "        cursor = db.connection.cursor()\n",
    "        sql = f\"SELECT target.attribute \\\n",
    "                FROM \\\n",
    "                    (SELECT q.icd10, q.tag, q.attribute \\\n",
    "                    FROM clinical_document.q_document as q, jsonb_array_elements(q.attribute) as attr \\\n",
    "                    WHERE q.mrn='{mrn}' AND attr->>'name'='target-id' AND attr->>'value'='{target_id}') target, \\\n",
    "                    jsonb_array_elements(target.attribute) as obj \\\n",
    "                WHERE {logic} \"\n",
    "        #print(sql)\n",
    "        cursor.execute(sql)\n",
    "        count = cursor.fetchone()\n",
    "        cursor.close()\n",
    "        print\n",
    "        if count == None: return False\n",
    "    return True\n",
    "\n",
    "def get_mrn_targets_where_filter(filters):\n",
    "    project_uuid = '00e50190-f573-4750-8946-70b70f2ca70c'\n",
    "    cursor = db.connection.cursor()\n",
    "    \n",
    "    # Get All MRNs & Targets\n",
    "    sql = f\"SELECT DISTINCT q.mrn as mrn, attr->>'value' as target \\\n",
    "            FROM clinical_document.q_document as q, jsonb_array_elements(q.attribute) as attr \\\n",
    "            WHERE attr->>'name'='target-id' AND q.project_uuid='{project_uuid}'\"\n",
    "    cursor.execute(sql)\n",
    "    mrn_targets = np.asarray(cursor.fetchall())\n",
    "    #print(mrn_targets)\n",
    "    valids = np.full(shape=len(mrn_targets), fill_value=False)\n",
    "\n",
    "    cursor.close()\n",
    "\n",
    "    # Loop through MRNs\n",
    "    filter_exists = np.full(len(mrn_targets), fill_value=False, dtype=bool)\n",
    "    for idx, (mrn, target_id) in enumerate(mrn_targets):\n",
    "        if does_target_filter_exist(mrn, target_id, filters):\n",
    "           filter_exists[idx] = True \n",
    "    \n",
    "    return mrn_targets[filter_exists]\n",
    "    \n",
    "filters=[{'icd10':'c44.91', 'tag': 'histology', 'attribute': 'histology', 'value': ['nodular']},\n",
    "        {'icd10':'c44.91'}]\n",
    "\n",
    "get_mrn_targets_where_filter(filters)"
   ]
  },
  {
   "cell_type": "code",
   "execution_count": 14,
   "id": "409114b7-5932-4967-8632-0c9378261bb4",
   "metadata": {},
   "outputs": [
    {
     "name": "stdout",
     "output_type": "stream",
     "text": [
      " (icd10 LIKE 'c44.91' AND tag LIKE 'histology' AND obj->>'name' LIKE 'histology' AND (obj->>'value' LIKE 'nodular'))\n"
     ]
    }
   ],
   "source": [
    "\n",
    "sql = ''\n",
    "# Build SQL Logic\n",
    "# Loop through tags\n",
    "for idx, filter in enumerate(filter):\n",
    "    #print(filter)\n",
    "    \n",
    "    # New Search Term\n",
    "    if idx != 0: sql = sql + ' OR'\n",
    "    \n",
    "    # If icd10 exists\n",
    "    if 'icd10' in filter.keys() and filter['icd10'] != None: \n",
    "        #print(f\"icd10:{filter['icd10']}\")\n",
    "        sql = sql + f\" (icd10 LIKE '{filter['icd10']}' \"\n",
    "    else:\n",
    "        sql = sql + f\" (icd10 IS NULL \"\n",
    "        \n",
    "    \n",
    "    # If icd10 exists\n",
    "    if 'tag' in filter.keys(): \n",
    "        #print(f\"tag:{filter['tag']}\")\n",
    "        sql = sql + f\"AND tag LIKE '{filter['tag']}' \"\n",
    "\n",
    "    # If attribute exists\n",
    "    if 'attribute' in filter.keys(): \n",
    "        #print(f\"attribute:{filter['attribute']}\")\n",
    "        sql = sql + f\"AND obj->>'name' LIKE '{filter['attribute']}' \"\n",
    "\n",
    "    # If attribute values exists\n",
    "    if 'value' in filter.keys(): \n",
    "        #print(f\"attribute values:{filter['value']}\")\n",
    "        sql = sql +'AND ('+ build_logical_OR_LIKE_sql_query(column=\"obj->>'value'\", values=filter[\"value\"]) +')'\n",
    "\n",
    "    sql = sql + ')'\n",
    "# Built SQL Search Logic\n",
    "print(sql)"
   ]
  },
  {
   "cell_type": "code",
   "execution_count": null,
   "id": "4ab4f616-e115-4186-bc1b-52df511db8a0",
   "metadata": {},
   "outputs": [],
   "source": []
  }
 ],
 "metadata": {
  "kernelspec": {
   "display_name": "Python 3 (ipykernel)",
   "language": "python",
   "name": "python3"
  },
  "language_info": {
   "codemirror_mode": {
    "name": "ipython",
    "version": 3
   },
   "file_extension": ".py",
   "mimetype": "text/x-python",
   "name": "python",
   "nbconvert_exporter": "python",
   "pygments_lexer": "ipython3",
   "version": "3.10.11"
  }
 },
 "nbformat": 4,
 "nbformat_minor": 5
}
