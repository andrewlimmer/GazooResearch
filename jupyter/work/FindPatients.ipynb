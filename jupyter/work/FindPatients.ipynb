{
 "cells": [
  {
   "cell_type": "markdown",
   "id": "bd70c6af-c7d3-42a9-bcf5-e40cd12956eb",
   "metadata": {},
   "source": [
    "## How To Find Patients Meeting Specific Criteria"
   ]
  },
  {
   "cell_type": "code",
   "execution_count": 2,
   "id": "8a3ba7a5-eda7-4798-ab57-0b6dc6b2176e",
   "metadata": {
    "tags": []
   },
   "outputs": [],
   "source": [
    "from Database import Database"
   ]
  },
  {
   "cell_type": "code",
   "execution_count": 3,
   "id": "dea8c7df-592a-41f7-8832-d9c14edef64d",
   "metadata": {
    "tags": []
   },
   "outputs": [
    {
     "name": "stdout",
     "output_type": "stream",
     "text": [
      "Connect To Database\n"
     ]
    },
    {
     "name": "stdin",
     "output_type": "stream",
     "text": [
      "encryption key: ········\n"
     ]
    },
    {
     "name": "stdout",
     "output_type": "stream",
     "text": [
      "Connected: {'user': 'admin', 'channel_binding': 'prefer', 'dbname': 'clinical', 'host': 'clinical_db', 'port': '5432', 'options': '-c search_path=clinical_document,rad_onc,public', 'sslmode': 'require', 'sslcompression': '0', 'sslsni': '1', 'ssl_min_protocol_version': 'TLSv1.2', 'gssencmode': 'prefer', 'krbsrvname': 'postgres', 'target_session_attrs': 'any'}\n"
     ]
    }
   ],
   "source": [
    "d = Database()"
   ]
  },
  {
   "cell_type": "markdown",
   "id": "dd0367d6-d4f7-4174-91f6-27e4535bb65f",
   "metadata": {
    "tags": []
   },
   "source": [
    "## Patient Filter Parameters\n",
    "\n",
    "The patient filter is an array of json objects. The structure follows:\n",
    "\n",
    "[ {tag:<string>, attribute:<string>, value:<array>},...]\n",
    "\n",
    "\n",
    "To know the tag, attribute, values look at the structure of q_document<br>\n",
    "> SELECT mrntag, attribute FROM clinical_document.q_document\n",
    "\n",
    "\n",
    "| mrn | tag | attribute |\n",
    "| --- | --- | --- |\n",
    "| 111111 | diagnosis | {\"value\": \"C61;Malignant_neoplasm_of_prostate\"} |\n",
    "| 111111 | c61.psa | {\"psa\": \"0.16\",\"date\": \"2022-11-28\",\"unit\": \"ng/mL\"} |\n",
    "| 222222 | diagnosis | {\"value\": \"C61;Malignant_neoplasm_of_prostate\"} |\n",
    "| 222222 | c61.T | {\"T\": \"T3a\"}|\n",
    "| ... | ... | ... |"
   ]
  },
  {
   "cell_type": "markdown",
   "id": "3b9ba8ab-eebc-4e52-bb83-74d36d2699a9",
   "metadata": {},
   "source": [
    "### Example 1: \n",
    "Find all patient mrns that have a dob tag.\n"
   ]
  },
  {
   "cell_type": "code",
   "execution_count": 4,
   "id": "85f1aafc-69bf-4e8e-9d16-1c7894c1be5b",
   "metadata": {
    "tags": []
   },
   "outputs": [
    {
     "name": "stdout",
     "output_type": "stream",
     "text": [
      "patient_filter=[{'tag': 'dob'}]\n",
      "mrns:[]\n"
     ]
    }
   ],
   "source": [
    "patient_filter=[{'tag': 'dob'}]\n",
    "print(f\"{patient_filter=}\")\n",
    "print(f\"mrns:{d.get_mrns_where_tag_value(patient_filter)}\")"
   ]
  },
  {
   "cell_type": "markdown",
   "id": "c8772bee-179f-4d41-980e-dbbb0e086560",
   "metadata": {},
   "source": [
    "### Example 2:\n",
    "Find all patient mrns that have BOTH 'diagnosis' AND 'dob' tags"
   ]
  },
  {
   "cell_type": "code",
   "execution_count": 5,
   "id": "885b9996-627f-4169-8f12-6e671c1c1354",
   "metadata": {
    "tags": []
   },
   "outputs": [
    {
     "name": "stdout",
     "output_type": "stream",
     "text": [
      "patient_filter=[{'tag': 'dob'}, {'tag': 'diagnosis'}]\n",
      "mrns:[]\n"
     ]
    }
   ],
   "source": [
    "patient_filter=[ {'tag': 'dob'},\n",
    "               {'tag': 'diagnosis'}]\n",
    "print(f\"{patient_filter=}\")\n",
    "print(f\"mrns:{d.get_mrns_where_tag_value(patient_filter)}\")"
   ]
  },
  {
   "cell_type": "markdown",
   "id": "e77c5a0f-8352-4aae-8abe-4b272767d891",
   "metadata": {},
   "source": [
    "### Example 3:\n",
    "Find all patients that have tags 'dob' AND 'c61.T' with the attribute 'T'"
   ]
  },
  {
   "cell_type": "code",
   "execution_count": 6,
   "id": "6ce90ca9-9092-4f11-87fa-e5a7c362bbb9",
   "metadata": {
    "tags": []
   },
   "outputs": [
    {
     "name": "stdout",
     "output_type": "stream",
     "text": [
      "patient_filter=[{'tag': 'dob'}, {'tag': 'c61:T', 'attribute': 'T'}]\n",
      "mrns:[]\n"
     ]
    }
   ],
   "source": [
    "patient_filter=[ {'tag': 'dob'},\n",
    "               {'tag': 'c61:T', 'attribute':'T' }]\n",
    "print(f\"{patient_filter=}\")\n",
    "print(f\"mrns:{d.get_mrns_where_tag_value(patient_filter)}\")"
   ]
  },
  {
   "cell_type": "markdown",
   "id": "211561e8-de30-4857-b6b0-d57c7cf0440c",
   "metadata": {},
   "source": [
    "### Example 4:\n",
    "Find all patients with the tag 'diagnosis' with the attribute named 'value' with the value \"C61;Malignant_neoplasm_of_prostate\""
   ]
  },
  {
   "cell_type": "code",
   "execution_count": 7,
   "id": "514786e7-0754-49e2-94e4-049c4f4221c1",
   "metadata": {
    "tags": []
   },
   "outputs": [
    {
     "name": "stdout",
     "output_type": "stream",
     "text": [
      "patient_filter=[{'tag': 'diagnosis', 'attribute': 'value', 'value': ['C61:malignant_neoplasm_of_prostate']}]\n",
      "mrns:['111111' '333333']\n",
      "\n"
     ]
    }
   ],
   "source": [
    "patient_filter=[{'tag': 'diagnosis', 'attribute': 'value', 'value': ['C61:malignant_neoplasm_of_prostate']}]\n",
    "print(f\"{patient_filter=}\")\n",
    "print(f\"mrns:{d.get_mrns_where_tag_value(patient_filter)}\")\n",
    "print()"
   ]
  },
  {
   "cell_type": "markdown",
   "id": "28df4bea-b87f-4be0-8ff3-1d8cf3905e76",
   "metadata": {},
   "source": [
    "### Example 5:\n",
    "\n",
    "'%' is a wildcard\n",
    "An underscore (_) in pattern stands for (matches) any single character\n",
    "Reference: https://www.postgresql.org/docs/current/functions-matching.html\n",
    "\n",
    "Find patient with a the diagnosis of 'C61;Malignant_neoplasm_of_prostate' AND and T-stage including 'T2a', and 'T3a'"
   ]
  },
  {
   "cell_type": "code",
   "execution_count": 8,
   "id": "8f6f5b4c-f60e-462d-9ba5-265162e3aea0",
   "metadata": {
    "tags": []
   },
   "outputs": [
    {
     "name": "stdout",
     "output_type": "stream",
     "text": [
      "patient_filter=[{'tag': 'diagnosis', 'attribute': 'value', 'value': ['C61:malignant_neoplasm_of_prostate']}, {'tag': 'c61:T', 'attribute': 'T', 'value': ['T2a', 'T3a']}]\n",
      "mrns:[]\n",
      "\n"
     ]
    }
   ],
   "source": [
    "# Structure [{tag:<string>, attribute:<string>, value:<array>},...]\n",
    "# Searches for patients with the diagnosis: \"C61;Malignant_neoplasm_of_prostate\" AND whose T stage is 'Tx' OR 'T3'\n",
    "patient_filter=[{'tag': 'diagnosis', 'attribute': 'value', 'value': ['C61:malignant_neoplasm_of_prostate']}, \n",
    "                  {'tag': 'c61:T', 'attribute': 'T', 'value': ['T2a', 'T3a']},]\n",
    "print(f\"{patient_filter=}\")\n",
    "print(f\"mrns:{d.get_mrns_where_tag_value(patient_filter)}\")\n",
    "print()"
   ]
  },
  {
   "cell_type": "markdown",
   "id": "9dec1fa4-0c48-4ee0-9eeb-39e48e49bf67",
   "metadata": {},
   "source": [
    "### Example 6:\n",
    "\n",
    "'%' is a wildcard\n",
    "An underscore (_) in pattern stands for (matches) any single character\n",
    "Reference: https://www.postgresql.org/docs/current/functions-matching.html\n",
    "\n",
    "Find patient with a the diagnosis of 'C61;Malignant_neoplasm_of_prostate' AND and any T-stage starting with T3"
   ]
  },
  {
   "cell_type": "code",
   "execution_count": 9,
   "id": "304f6c2c-0192-4f34-adf3-c42b5486fe8d",
   "metadata": {
    "tags": []
   },
   "outputs": [
    {
     "name": "stdout",
     "output_type": "stream",
     "text": [
      "patient_filter=[{'tag': 'diagnosis', 'attribute': 'value', 'value': ['C61:malignant_neoplasm_of_prostate']}, {'tag': 'c61:T', 'attribute': 'T', 'value': ['T3%']}]\n",
      "mrns:[]\n",
      "\n"
     ]
    }
   ],
   "source": [
    "# Structure [{tag:<string>, attribute:<string>, value:<array>},...]\n",
    "# Searches for patients with the diagnosis: \"C61;Malignant_neoplasm_of_prostate\" AND whose T stage is 'Tx' OR 'T3'\n",
    "patient_filter=[{'tag': 'diagnosis', 'attribute': 'value', 'value': ['C61:malignant_neoplasm_of_prostate']}, \n",
    "                  {'tag': 'c61:T', 'attribute': 'T', 'value': ['T3%']},]\n",
    "print(f\"{patient_filter=}\")\n",
    "print(f\"mrns:{d.get_mrns_where_tag_value(patient_filter)}\")\n",
    "print()"
   ]
  },
  {
   "cell_type": "markdown",
   "id": "ce203712-83c0-4a3a-b38d-2fc37b86a106",
   "metadata": {},
   "source": [
    "## Close Database Class"
   ]
  },
  {
   "cell_type": "code",
   "execution_count": 10,
   "id": "86143818-7fbc-4121-8c25-cba1b8790292",
   "metadata": {
    "tags": []
   },
   "outputs": [],
   "source": [
    "del d"
   ]
  },
  {
   "cell_type": "code",
   "execution_count": null,
   "id": "e2c7f0cd-7108-4f46-8b25-1e2c763dcfcd",
   "metadata": {},
   "outputs": [],
   "source": []
  }
 ],
 "metadata": {
  "kernelspec": {
   "display_name": "Python 3 (ipykernel)",
   "language": "python",
   "name": "python3"
  },
  "language_info": {
   "codemirror_mode": {
    "name": "ipython",
    "version": 3
   },
   "file_extension": ".py",
   "mimetype": "text/x-python",
   "name": "python",
   "nbconvert_exporter": "python",
   "pygments_lexer": "ipython3",
   "version": "3.10.10"
  }
 },
 "nbformat": 4,
 "nbformat_minor": 5
}
