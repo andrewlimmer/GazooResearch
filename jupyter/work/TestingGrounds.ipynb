{
 "cells": [
  {
   "cell_type": "code",
   "execution_count": 1,
   "id": "bb466d64-9fdc-4714-9ec2-3e2c70045120",
   "metadata": {},
   "outputs": [],
   "source": [
    "import numpy as np\n",
    "import pandas as pd\n",
    "from utils.Database import Database"
   ]
  },
  {
   "cell_type": "code",
   "execution_count": 2,
   "id": "0eafebaf-caeb-4491-bb68-cbba015be363",
   "metadata": {},
   "outputs": [
    {
     "name": "stdout",
     "output_type": "stream",
     "text": [
      "Connect To Database\n"
     ]
    },
    {
     "name": "stdin",
     "output_type": "stream",
     "text": [
      "encryption key: ········\n"
     ]
    },
    {
     "name": "stdout",
     "output_type": "stream",
     "text": [
      "Connected: {'user': 'postgres', 'channel_binding': 'prefer', 'dbname': 'clinical', 'host': 'clinical_db', 'port': '5432', 'options': '-c search_path=clinical_document,public', 'sslmode': 'require', 'sslcompression': '0', 'sslcertmode': 'allow', 'sslsni': '1', 'ssl_min_protocol_version': 'TLSv1.2', 'gssencmode': 'prefer', 'krbsrvname': 'postgres', 'gssdelegation': '0', 'target_session_attrs': 'any', 'load_balance_hosts': 'disable'}\n"
     ]
    }
   ],
   "source": [
    "d = Database()"
   ]
  },
  {
   "cell_type": "code",
   "execution_count": 3,
   "id": "5467f4fc-4c6d-446a-a610-4e5a89577092",
   "metadata": {},
   "outputs": [
    {
     "data": {
      "text/html": [
       "<div>\n",
       "<style scoped>\n",
       "    .dataframe tbody tr th:only-of-type {\n",
       "        vertical-align: middle;\n",
       "    }\n",
       "\n",
       "    .dataframe tbody tr th {\n",
       "        vertical-align: top;\n",
       "    }\n",
       "\n",
       "    .dataframe thead th {\n",
       "        text-align: right;\n",
       "    }\n",
       "</style>\n",
       "<table border=\"1\" class=\"dataframe\">\n",
       "  <thead>\n",
       "    <tr style=\"text-align: right;\">\n",
       "      <th></th>\n",
       "      <th>name</th>\n",
       "      <th>description</th>\n",
       "      <th>uuid</th>\n",
       "    </tr>\n",
       "  </thead>\n",
       "  <tbody>\n",
       "    <tr>\n",
       "      <th>0</th>\n",
       "      <td>test</td>\n",
       "      <td>test</td>\n",
       "      <td>9af0df53-66da-47e0-9846-e853c0e8cbca</td>\n",
       "    </tr>\n",
       "    <tr>\n",
       "      <th>1</th>\n",
       "      <td>test-skin</td>\n",
       "      <td>test-skin</td>\n",
       "      <td>02128a63-2630-41c8-adf6-18cba91bc340</td>\n",
       "    </tr>\n",
       "  </tbody>\n",
       "</table>\n",
       "</div>"
      ],
      "text/plain": [
       "        name description                                  uuid\n",
       "0       test        test  9af0df53-66da-47e0-9846-e853c0e8cbca\n",
       "1  test-skin   test-skin  02128a63-2630-41c8-adf6-18cba91bc340"
      ]
     },
     "execution_count": 3,
     "metadata": {},
     "output_type": "execute_result"
    }
   ],
   "source": [
    "d.fetch_projects()"
   ]
  },
  {
   "cell_type": "code",
   "execution_count": 4,
   "id": "fd9661fb-a40e-4caf-a9c8-b430e76c4f2a",
   "metadata": {},
   "outputs": [
    {
     "name": "stdout",
     "output_type": "stream",
     "text": [
      "project_uuid: 9af0df53-66da-47e0-9846-e853c0e8cbca\n"
     ]
    }
   ],
   "source": [
    "d.set_project_uuid('9af0df53-66da-47e0-9846-e853c0e8cbca')"
   ]
  },
  {
   "cell_type": "code",
   "execution_count": 5,
   "id": "f6662fc3-6228-48bf-b3dd-3e44c71eb3db",
   "metadata": {},
   "outputs": [
    {
     "name": "stdout",
     "output_type": "stream",
     "text": [
      "patient_filter=[{'tag': 'diagnosis', 'attribute': 'diagnosis', 'value': ['c61 - Malignant neoplasm of prostate']}]\n",
      "mrns:['333333', '888888', '111111', '555555', '666666', '777777']\n"
     ]
    }
   ],
   "source": [
    "patient_filter=[{'tag':'diagnosis', 'attribute': 'diagnosis', 'value': ['c61 - Malignant neoplasm of prostate']},]\n",
    "\n",
    "print(f\"{patient_filter=}\")\n",
    "mrns = d.get_mrns_where_filters(patient_filter)\n",
    "print(f\"mrns:{mrns}\")"
   ]
  },
  {
   "cell_type": "code",
   "execution_count": 6,
   "id": "fb447f82-8a1d-47c1-9ead-f920691aa2a7",
   "metadata": {},
   "outputs": [],
   "source": [
    "icd10 = 'c61'\n",
    "start_tag = 'surgery%'\n",
    "event_tags = ['biochemical-progression','death']"
   ]
  },
  {
   "cell_type": "code",
   "execution_count": 7,
   "id": "b440cd16-76da-4fed-8f91-68b32b2c8304",
   "metadata": {},
   "outputs": [
    {
     "data": {
      "text/plain": [
       "{'mrns': ['333333', '111111', '555555', '666666', '777777'],\n",
       " 'durations': [888, 3339, 1134, 530, 2117],\n",
       " 'events': [1, 1, 1, 1, 0]}"
      ]
     },
     "execution_count": 7,
     "metadata": {},
     "output_type": "execute_result"
    }
   ],
   "source": [
    "output = d.kaplan_meier(mrns, icd10, start_tag, event_tags)\n",
    "output"
   ]
  },
  {
   "cell_type": "code",
   "execution_count": null,
   "id": "5e8fb293-8223-4d12-9cd1-3b292d130843",
   "metadata": {},
   "outputs": [],
   "source": []
  }
 ],
 "metadata": {
  "kernelspec": {
   "display_name": "Python 3 (ipykernel)",
   "language": "python",
   "name": "python3"
  },
  "language_info": {
   "codemirror_mode": {
    "name": "ipython",
    "version": 3
   },
   "file_extension": ".py",
   "mimetype": "text/x-python",
   "name": "python",
   "nbconvert_exporter": "python",
   "pygments_lexer": "ipython3",
   "version": "3.10.11"
  }
 },
 "nbformat": 4,
 "nbformat_minor": 5
}
