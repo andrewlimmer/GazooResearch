{
 "cells": [
  {
   "cell_type": "markdown",
   "id": "70122cdd-ada2-4de7-88f9-55fff4f3a770",
   "metadata": {},
   "source": [
    "# Generate Kaplan Meier Curves "
   ]
  },
  {
   "cell_type": "markdown",
   "id": "bad3f8d9-1837-4479-b9a8-6f9672c99ae7",
   "metadata": {},
   "source": [
    "### Install Necessary Plotting Library\n",
    "To plot kaplan meier curves the _lifelines_ library is required "
   ]
  },
  {
   "cell_type": "code",
   "execution_count": 1,
   "id": "a4f09749-c916-43e1-935c-0748a773c04f",
   "metadata": {
    "tags": []
   },
   "outputs": [
    {
     "name": "stdout",
     "output_type": "stream",
     "text": [
      "Collecting lifelines\n",
      "  Using cached lifelines-0.27.4-py3-none-any.whl (349 kB)\n",
      "Requirement already satisfied: matplotlib>=3.0 in /opt/conda/lib/python3.10/site-packages (from lifelines) (3.7.1)\n",
      "Collecting autograd-gamma>=0.3\n",
      "  Using cached autograd_gamma-0.5.0-py3-none-any.whl\n",
      "Collecting autograd>=1.5\n",
      "  Using cached autograd-1.5-py3-none-any.whl (48 kB)\n",
      "Requirement already satisfied: numpy>=1.14.0 in /opt/conda/lib/python3.10/site-packages (from lifelines) (1.24.2)\n",
      "Collecting formulaic>=0.2.2\n",
      "  Using cached formulaic-0.5.2-py3-none-any.whl (77 kB)\n",
      "Requirement already satisfied: pandas>=1.0.0 in /opt/conda/lib/python3.10/site-packages (from lifelines) (1.5.3)\n",
      "Collecting scipy>=1.2.0\n",
      "  Using cached scipy-1.10.1-cp310-cp310-manylinux_2_17_aarch64.manylinux2014_aarch64.whl (30.9 MB)\n",
      "Collecting future>=0.15.2\n",
      "  Using cached future-0.18.3-py3-none-any.whl\n",
      "Collecting astor>=0.8\n",
      "  Using cached astor-0.8.1-py2.py3-none-any.whl (27 kB)\n",
      "Requirement already satisfied: typing-extensions>=4.2.0 in /opt/conda/lib/python3.10/site-packages (from formulaic>=0.2.2->lifelines) (4.5.0)\n",
      "Collecting interface-meta>=1.2.0\n",
      "  Using cached interface_meta-1.3.0-py3-none-any.whl (14 kB)\n",
      "Collecting wrapt>=1.0\n",
      "  Using cached wrapt-1.15.0-cp310-cp310-manylinux_2_17_aarch64.manylinux2014_aarch64.whl (78 kB)\n",
      "Requirement already satisfied: packaging>=20.0 in /opt/conda/lib/python3.10/site-packages (from matplotlib>=3.0->lifelines) (23.0)\n",
      "Requirement already satisfied: pillow>=6.2.0 in /opt/conda/lib/python3.10/site-packages (from matplotlib>=3.0->lifelines) (9.5.0)\n",
      "Requirement already satisfied: pyparsing>=2.3.1 in /opt/conda/lib/python3.10/site-packages (from matplotlib>=3.0->lifelines) (3.0.9)\n",
      "Requirement already satisfied: fonttools>=4.22.0 in /opt/conda/lib/python3.10/site-packages (from matplotlib>=3.0->lifelines) (4.39.3)\n",
      "Requirement already satisfied: cycler>=0.10 in /opt/conda/lib/python3.10/site-packages (from matplotlib>=3.0->lifelines) (0.11.0)\n",
      "Requirement already satisfied: python-dateutil>=2.7 in /opt/conda/lib/python3.10/site-packages (from matplotlib>=3.0->lifelines) (2.8.2)\n",
      "Requirement already satisfied: contourpy>=1.0.1 in /opt/conda/lib/python3.10/site-packages (from matplotlib>=3.0->lifelines) (1.0.7)\n",
      "Requirement already satisfied: kiwisolver>=1.0.1 in /opt/conda/lib/python3.10/site-packages (from matplotlib>=3.0->lifelines) (1.4.4)\n",
      "Requirement already satisfied: pytz>=2020.1 in /opt/conda/lib/python3.10/site-packages (from pandas>=1.0.0->lifelines) (2023.3)\n",
      "Requirement already satisfied: six>=1.5 in /opt/conda/lib/python3.10/site-packages (from python-dateutil>=2.7->matplotlib>=3.0->lifelines) (1.16.0)\n",
      "Installing collected packages: wrapt, scipy, interface-meta, future, astor, autograd, formulaic, autograd-gamma, lifelines\n",
      "Successfully installed astor-0.8.1 autograd-1.5 autograd-gamma-0.5.0 formulaic-0.5.2 future-0.18.3 interface-meta-1.3.0 lifelines-0.27.4 scipy-1.10.1 wrapt-1.15.0\n",
      "\u001b[33mWARNING: Running pip as the 'root' user can result in broken permissions and conflicting behaviour with the system package manager. It is recommended to use a virtual environment instead: https://pip.pypa.io/warnings/venv\u001b[0m\u001b[33m\n",
      "\u001b[0m"
     ]
    }
   ],
   "source": [
    "!pip install lifelines"
   ]
  },
  {
   "cell_type": "code",
   "execution_count": 2,
   "id": "63c2f98d-ca11-4fb0-b346-cd70a3a49c63",
   "metadata": {
    "tags": []
   },
   "outputs": [],
   "source": [
    "from lifelines import KaplanMeierFitter\n",
    "import matplotlib.pyplot as plt"
   ]
  },
  {
   "cell_type": "code",
   "execution_count": 3,
   "id": "18ef59fb-4230-4f5a-ba5f-c94dec3dfb6b",
   "metadata": {
    "tags": []
   },
   "outputs": [],
   "source": [
    "from Analysis import Analysis\n",
    "from Database import Database"
   ]
  },
  {
   "cell_type": "markdown",
   "id": "ffb9c821-69d3-4870-8c9d-4ec4a41f7f1d",
   "metadata": {},
   "source": [
    "## Find prostate cancer patients\n",
    "Use the Database Class to find mrns for prostate cancer patients"
   ]
  },
  {
   "cell_type": "code",
   "execution_count": 10,
   "id": "998cc7f9-1424-40e3-8ffb-08f872047d9e",
   "metadata": {
    "tags": []
   },
   "outputs": [
    {
     "name": "stdout",
     "output_type": "stream",
     "text": [
      "Connect To Database\n"
     ]
    },
    {
     "name": "stdin",
     "output_type": "stream",
     "text": [
      "encryption key: ········\n"
     ]
    },
    {
     "name": "stdout",
     "output_type": "stream",
     "text": [
      "Connected: {'user': 'admin', 'channel_binding': 'prefer', 'dbname': 'clinical', 'host': 'clinical_db', 'port': '5432', 'options': '-c search_path=clinical_document,rad_onc,public', 'sslmode': 'require', 'sslcompression': '0', 'sslsni': '1', 'ssl_min_protocol_version': 'TLSv1.2', 'gssencmode': 'prefer', 'krbsrvname': 'postgres', 'target_session_attrs': 'any'}\n"
     ]
    }
   ],
   "source": [
    "d = Database()"
   ]
  },
  {
   "cell_type": "code",
   "execution_count": 11,
   "id": "62763016-e899-4b1c-9521-dc452c41064d",
   "metadata": {
    "tags": []
   },
   "outputs": [
    {
     "name": "stdout",
     "output_type": "stream",
     "text": [
      "patient_filter=[{'tag': 'diagnosis', 'attribute': 'value', 'value': ['C61:malignant_neoplasm_of_prostate']}]\n",
      "mrns:['111111' '333333']\n"
     ]
    }
   ],
   "source": [
    "patient_filter=[{'tag': 'diagnosis', 'attribute': 'value', 'value': ['C61:malignant_neoplasm_of_prostate']}]\n",
    "print(f\"{patient_filter=}\")\n",
    "mrns = d.get_mrns_where_tag_value(patient_filter)\n",
    "print(f\"mrns:{mrns}\")\n",
    "\n",
    "# Close Database Class\n",
    "del d"
   ]
  },
  {
   "cell_type": "markdown",
   "id": "5308d6e0-06bf-45f6-8774-8b09b2678fec",
   "metadata": {},
   "source": [
    "### Create an instance of the Analysis class"
   ]
  },
  {
   "cell_type": "code",
   "execution_count": 6,
   "id": "63821f57-b67c-4dd3-9cbf-f81d85447166",
   "metadata": {
    "tags": []
   },
   "outputs": [
    {
     "name": "stdout",
     "output_type": "stream",
     "text": [
      "Connect To Database\n"
     ]
    },
    {
     "name": "stdin",
     "output_type": "stream",
     "text": [
      "encryption key: ········\n"
     ]
    },
    {
     "name": "stdout",
     "output_type": "stream",
     "text": [
      "Connected: {'user': 'admin', 'channel_binding': 'prefer', 'dbname': 'clinical', 'host': 'clinical_db', 'port': '5432', 'options': '-c search_path=clinical_document,rad_onc,public', 'sslmode': 'require', 'sslcompression': '0', 'sslsni': '1', 'ssl_min_protocol_version': 'TLSv1.2', 'gssencmode': 'prefer', 'krbsrvname': 'postgres', 'target_session_attrs': 'any'}\n"
     ]
    }
   ],
   "source": [
    "a = Analysis()"
   ]
  },
  {
   "cell_type": "markdown",
   "id": "2e66ebc2-9616-4daa-ab6c-9fd172ab9924",
   "metadata": {},
   "source": [
    "## Define start and event\n",
    "What tag defines the start time (eg. surgery, radiation)\n",
    "What tag defines an event (eg. death, biochemical_progression)"
   ]
  },
  {
   "cell_type": "code",
   "execution_count": 12,
   "id": "2001d213-b57e-4e83-aedf-e5bb4b67a414",
   "metadata": {
    "tags": []
   },
   "outputs": [],
   "source": [
    "start_tag = 'c61:surgery'\n",
    "event_tag = 'c61:biochemical_progression'"
   ]
  },
  {
   "cell_type": "markdown",
   "id": "55d7efb7-3702-4942-a24a-6b9c3db01f91",
   "metadata": {},
   "source": [
    "### Use the method _kaplan_meier_ to get kaplan meier data"
   ]
  },
  {
   "cell_type": "code",
   "execution_count": 13,
   "id": "727327e2-3b86-454b-880f-b4fdf83a383b",
   "metadata": {
    "tags": []
   },
   "outputs": [
    {
     "data": {
      "text/plain": [
       "{'mrns': ['333333'], 'durations': [75], 'events': [1]}"
      ]
     },
     "execution_count": 13,
     "metadata": {},
     "output_type": "execute_result"
    }
   ],
   "source": [
    "output = a.kaplan_meier(mrns, start_tag, event_tag)\n",
    "output"
   ]
  },
  {
   "cell_type": "markdown",
   "id": "cbe99e85-5532-4faf-a0c7-da6ad09be687",
   "metadata": {},
   "source": [
    "### Plot The Kaplan Meier Curve"
   ]
  },
  {
   "cell_type": "code",
   "execution_count": 14,
   "id": "dce0c7ad-926f-4800-9a2e-6b0ab5937d32",
   "metadata": {
    "tags": []
   },
   "outputs": [
    {
     "data": {
      "image/png": "[encoded data removed]",
      "text/plain": [
       "<Figure size 640x480 with 2 Axes>"
      ]
     },
     "metadata": {},
     "output_type": "display_data"
    }
   ],
   "source": [
    "# Extract Data\n",
    "mrns = output['mrns']\n",
    "durations = output['durations']\n",
    "events = output['events']\n",
    "\n",
    "# Generate Kaplan Meier\n",
    "kmf = KaplanMeierFitter()\n",
    "kmf.fit(durations, event_observed=events)\n",
    "kmf.plot_survival_function(at_risk_counts=True)\n",
    "plt.title('Kaplan-Meier Curve')\n",
    "plt.show()\n",
    "plt.close()"
   ]
  },
  {
   "cell_type": "code",
   "execution_count": null,
   "id": "ad38c50a-1bd6-4f17-ae5b-37c31ba39014",
   "metadata": {},
   "outputs": [],
   "source": [
    "del a"
   ]
  }
 ],
 "metadata": {
  "kernelspec": {
   "display_name": "Python 3 (ipykernel)",
   "language": "python",
   "name": "python3"
  },
  "language_info": {
   "codemirror_mode": {
    "name": "ipython",
    "version": 3
   },
   "file_extension": ".py",
   "mimetype": "text/x-python",
   "name": "python",
   "nbconvert_exporter": "python",
   "pygments_lexer": "ipython3",
   "version": "3.10.10"
  }
 },
 "nbformat": 4,
 "nbformat_minor": 5
}
