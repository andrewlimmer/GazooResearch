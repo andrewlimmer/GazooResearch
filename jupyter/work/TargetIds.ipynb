{
 "cells": [
  {
   "cell_type": "code",
   "execution_count": null,
   "id": "8d784e3e-83c9-477b-b3ed-a3f1c08703d4",
   "metadata": {},
   "outputs": [],
   "source": []
  },
  {
   "cell_type": "code",
   "execution_count": 1,
   "id": "32518e2b-bab6-4465-b85f-99b17c21657d",
   "metadata": {},
   "outputs": [],
   "source": [
    "from utils.Database import Database"
   ]
  },
  {
   "cell_type": "code",
   "execution_count": 2,
   "id": "30d8b2e5-eab4-49c6-854a-3be770d30434",
   "metadata": {},
   "outputs": [
    {
     "name": "stdout",
     "output_type": "stream",
     "text": [
      "Connect To Database\n"
     ]
    },
    {
     "name": "stdin",
     "output_type": "stream",
     "text": [
      "encryption key: ········\n"
     ]
    },
    {
     "name": "stdout",
     "output_type": "stream",
     "text": [
      "Connected: {'user': 'postgres', 'channel_binding': 'prefer', 'dbname': 'clinical', 'host': 'clinical_db', 'port': '5432', 'options': '-c search_path=clinical_document,public', 'sslmode': 'require', 'sslcompression': '0', 'sslcertmode': 'allow', 'sslsni': '1', 'ssl_min_protocol_version': 'TLSv1.2', 'gssencmode': 'prefer', 'krbsrvname': 'postgres', 'gssdelegation': '0', 'target_session_attrs': 'any', 'load_balance_hosts': 'disable'}\n"
     ]
    }
   ],
   "source": [
    "d = Database()"
   ]
  },
  {
   "cell_type": "code",
   "execution_count": 3,
   "id": "beae4e0c-839e-40bc-82eb-91c2df8f00c5",
   "metadata": {},
   "outputs": [
    {
     "data": {
      "text/html": [
       "<div>\n",
       "<style scoped>\n",
       "    .dataframe tbody tr th:only-of-type {\n",
       "        vertical-align: middle;\n",
       "    }\n",
       "\n",
       "    .dataframe tbody tr th {\n",
       "        vertical-align: top;\n",
       "    }\n",
       "\n",
       "    .dataframe thead th {\n",
       "        text-align: right;\n",
       "    }\n",
       "</style>\n",
       "<table border=\"1\" class=\"dataframe\">\n",
       "  <thead>\n",
       "    <tr style=\"text-align: right;\">\n",
       "      <th></th>\n",
       "      <th>name</th>\n",
       "      <th>description</th>\n",
       "      <th>uuid</th>\n",
       "    </tr>\n",
       "  </thead>\n",
       "  <tbody>\n",
       "    <tr>\n",
       "      <th>0</th>\n",
       "      <td>Prostate Cancer</td>\n",
       "      <td>Assessing biochemical failure</td>\n",
       "      <td>ea0500f9-75ee-4587-b3da-04e3341c6549</td>\n",
       "    </tr>\n",
       "    <tr>\n",
       "      <th>1</th>\n",
       "      <td>Prostate Cancer test</td>\n",
       "      <td>Assessing biochemical failure</td>\n",
       "      <td>02bae428-4312-4f97-8488-bf511fd2d44e</td>\n",
       "    </tr>\n",
       "  </tbody>\n",
       "</table>\n",
       "</div>"
      ],
      "text/plain": [
       "                   name                    description  \\\n",
       "0       Prostate Cancer  Assessing biochemical failure   \n",
       "1  Prostate Cancer test  Assessing biochemical failure   \n",
       "\n",
       "                                   uuid  \n",
       "0  ea0500f9-75ee-4587-b3da-04e3341c6549  \n",
       "1  02bae428-4312-4f97-8488-bf511fd2d44e  "
      ]
     },
     "execution_count": 3,
     "metadata": {},
     "output_type": "execute_result"
    }
   ],
   "source": [
    "d.fetch_projects()"
   ]
  },
  {
   "cell_type": "code",
   "execution_count": 5,
   "id": "378d9a94-5fb7-4909-a9ef-da1871249e11",
   "metadata": {},
   "outputs": [
    {
     "name": "stdout",
     "output_type": "stream",
     "text": [
      "project_uuid: 02bae428-4312-4f97-8488-bf511fd2d44e\n"
     ]
    }
   ],
   "source": [
    "d.set_project_uuid('02bae428-4312-4f97-8488-bf511fd2d44e')"
   ]
  },
  {
   "cell_type": "markdown",
   "id": "6dda408c-d001-4497-a439-6acb5fbfb496",
   "metadata": {},
   "source": [
    "![alt text](./images/datastructure.png \"Data Structure\")\n"
   ]
  },
  {
   "cell_type": "code",
   "execution_count": null,
   "id": "16e9cf28-986d-4081-9b7d-f8946a976212",
   "metadata": {},
   "outputs": [],
   "source": []
  }
 ],
 "metadata": {
  "kernelspec": {
   "display_name": "Python 3 (ipykernel)",
   "language": "python",
   "name": "python3"
  },
  "language_info": {
   "codemirror_mode": {
    "name": "ipython",
    "version": 3
   },
   "file_extension": ".py",
   "mimetype": "text/x-python",
   "name": "python",
   "nbconvert_exporter": "python",
   "pygments_lexer": "ipython3",
   "version": "3.10.11"
  }
 },
 "nbformat": 4,
 "nbformat_minor": 5
}
