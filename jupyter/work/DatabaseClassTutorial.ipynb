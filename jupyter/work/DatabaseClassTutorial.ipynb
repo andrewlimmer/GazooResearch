{
 "cells": [
  {
   "cell_type": "markdown",
   "id": "bd15a7d4-ca9d-4247-847e-185a086fc7f5",
   "metadata": {},
   "source": [
    "# A Helpful Class to Interface With the Patient Data\n",
    "Based off of Pandas Dataframes"
   ]
  },
  {
   "cell_type": "code",
   "execution_count": 1,
   "id": "3d814e83-8bb3-4291-b5c9-fd496a7615a1",
   "metadata": {
    "tags": []
   },
   "outputs": [],
   "source": [
    "from utils.Database import Database"
   ]
  },
  {
   "cell_type": "markdown",
   "id": "85f6028f-15f1-470c-8d01-a47d7d12d13f",
   "metadata": {},
   "source": [
    "## Database Interface:\n",
    "Database Methods deal with database-wide searches, meaning they are functions that are not specific for a single patient.\n",
    "# Initialize Database"
   ]
  },
  {
   "cell_type": "code",
   "execution_count": 2,
   "id": "5e0327cc-b215-400e-b076-0eb5b5c59ec2",
   "metadata": {
    "tags": []
   },
   "outputs": [
    {
     "name": "stdout",
     "output_type": "stream",
     "text": [
      "Connect To Database\n"
     ]
    },
    {
     "name": "stdin",
     "output_type": "stream",
     "text": [
      "encryption key: ········\n"
     ]
    },
    {
     "name": "stdout",
     "output_type": "stream",
     "text": [
      "Connected: {'user': 'postgres', 'channel_binding': 'prefer', 'dbname': 'clinical', 'host': 'clinical_db', 'port': '5432', 'options': '-c search_path=clinical_document,public', 'sslmode': 'require', 'sslcompression': '0', 'sslcertmode': 'allow', 'sslsni': '1', 'ssl_min_protocol_version': 'TLSv1.2', 'gssencmode': 'prefer', 'krbsrvname': 'postgres', 'gssdelegation': '0', 'target_session_attrs': 'any', 'load_balance_hosts': 'disable'}\n"
     ]
    }
   ],
   "source": [
    "d = Database()"
   ]
  },
  {
   "cell_type": "markdown",
   "id": "5e921db0-44ea-47f6-916e-70fcc48ea19d",
   "metadata": {},
   "source": [
    "## Get list of projects and their UUID"
   ]
  },
  {
   "cell_type": "code",
   "execution_count": 3,
   "id": "8b80ff3e-8529-436d-80f9-fe8317b16e47",
   "metadata": {},
   "outputs": [
    {
     "data": {
      "text/html": [
       "<div>\n",
       "<style scoped>\n",
       "    .dataframe tbody tr th:only-of-type {\n",
       "        vertical-align: middle;\n",
       "    }\n",
       "\n",
       "    .dataframe tbody tr th {\n",
       "        vertical-align: top;\n",
       "    }\n",
       "\n",
       "    .dataframe thead th {\n",
       "        text-align: right;\n",
       "    }\n",
       "</style>\n",
       "<table border=\"1\" class=\"dataframe\">\n",
       "  <thead>\n",
       "    <tr style=\"text-align: right;\">\n",
       "      <th></th>\n",
       "      <th>name</th>\n",
       "      <th>description</th>\n",
       "      <th>uuid</th>\n",
       "    </tr>\n",
       "  </thead>\n",
       "  <tbody>\n",
       "    <tr>\n",
       "      <th>0</th>\n",
       "      <td>test</td>\n",
       "      <td>test</td>\n",
       "      <td>31cb95c5-7832-41a4-a1ab-08feb6e96694</td>\n",
       "    </tr>\n",
       "    <tr>\n",
       "      <th>1</th>\n",
       "      <td>test-simple</td>\n",
       "      <td>test-simple</td>\n",
       "      <td>4b2d7f6f-3f1a-4589-b346-38dbf6fb4d58</td>\n",
       "    </tr>\n",
       "  </tbody>\n",
       "</table>\n",
       "</div>"
      ],
      "text/plain": [
       "          name  description                                  uuid\n",
       "0         test         test  31cb95c5-7832-41a4-a1ab-08feb6e96694\n",
       "1  test-simple  test-simple  4b2d7f6f-3f1a-4589-b346-38dbf6fb4d58"
      ]
     },
     "execution_count": 3,
     "metadata": {},
     "output_type": "execute_result"
    }
   ],
   "source": [
    "d.fetch_projects()"
   ]
  },
  {
   "cell_type": "code",
   "execution_count": 4,
   "id": "d2c8745d-eda3-4fc5-ab73-fe035711c1c7",
   "metadata": {},
   "outputs": [],
   "source": [
    "### Set Project UUID"
   ]
  },
  {
   "cell_type": "code",
   "execution_count": 4,
   "id": "8f770b2a-8e26-4723-9619-d2f4bec312bf",
   "metadata": {},
   "outputs": [
    {
     "name": "stdout",
     "output_type": "stream",
     "text": [
      "project_uuid: 4b2d7f6f-3f1a-4589-b346-38dbf6fb4d58\n"
     ]
    }
   ],
   "source": [
    "d.set_project_uuid('4b2d7f6f-3f1a-4589-b346-38dbf6fb4d58')"
   ]
  },
  {
   "cell_type": "markdown",
   "id": "e1f0994c-8bd8-4d2e-b873-0dc5d0549a2b",
   "metadata": {},
   "source": [
    "### 1. fetch_mrns()\n",
    "Return a list of all the mrns found in the database\n"
   ]
  },
  {
   "cell_type": "code",
   "execution_count": 5,
   "id": "87ce653e-87c5-420e-b9a1-301dbc481119",
   "metadata": {
    "tags": []
   },
   "outputs": [
    {
     "data": {
      "text/plain": [
       "['111111', '333333', '555555', '666666', '777777', '888888']"
      ]
     },
     "execution_count": 5,
     "metadata": {},
     "output_type": "execute_result"
    }
   ],
   "source": [
    "d.fetch_mrns()"
   ]
  },
  {
   "cell_type": "markdown",
   "id": "04cac77e-0131-4f55-a2cf-f10ca0a97651",
   "metadata": {},
   "source": [
    "### 2. search_name\n",
    "MRN Lookup by Name.  Case-insensitive\n"
   ]
  },
  {
   "cell_type": "code",
   "execution_count": 6,
   "id": "40b7c29d-da46-4df8-9a5b-99b513762ec2",
   "metadata": {
    "tags": []
   },
   "outputs": [
    {
     "data": {
      "text/html": [
       "<div>\n",
       "<style scoped>\n",
       "    .dataframe tbody tr th:only-of-type {\n",
       "        vertical-align: middle;\n",
       "    }\n",
       "\n",
       "    .dataframe tbody tr th {\n",
       "        vertical-align: top;\n",
       "    }\n",
       "\n",
       "    .dataframe thead th {\n",
       "        text-align: right;\n",
       "    }\n",
       "</style>\n",
       "<table border=\"1\" class=\"dataframe\">\n",
       "  <thead>\n",
       "    <tr style=\"text-align: right;\">\n",
       "      <th></th>\n",
       "      <th>mrn</th>\n",
       "      <th>first_name</th>\n",
       "      <th>last_name</th>\n",
       "    </tr>\n",
       "  </thead>\n",
       "  <tbody>\n",
       "    <tr>\n",
       "      <th>0</th>\n",
       "      <td>111111</td>\n",
       "      <td>Chandler</td>\n",
       "      <td>NaN</td>\n",
       "    </tr>\n",
       "    <tr>\n",
       "      <th>1</th>\n",
       "      <td>None</td>\n",
       "      <td>NaN</td>\n",
       "      <td>None</td>\n",
       "    </tr>\n",
       "  </tbody>\n",
       "</table>\n",
       "</div>"
      ],
      "text/plain": [
       "      mrn first_name last_name\n",
       "0  111111   Chandler       NaN\n",
       "1    None        NaN      None"
      ]
     },
     "execution_count": 6,
     "metadata": {},
     "output_type": "execute_result"
    }
   ],
   "source": [
    "d.search_name()"
   ]
  },
  {
   "cell_type": "code",
   "execution_count": 7,
   "id": "d057ccfd-0dec-4d7d-bf61-4f014b4c2e95",
   "metadata": {
    "tags": []
   },
   "outputs": [
    {
     "data": {
      "text/html": [
       "<div>\n",
       "<style scoped>\n",
       "    .dataframe tbody tr th:only-of-type {\n",
       "        vertical-align: middle;\n",
       "    }\n",
       "\n",
       "    .dataframe tbody tr th {\n",
       "        vertical-align: top;\n",
       "    }\n",
       "\n",
       "    .dataframe thead th {\n",
       "        text-align: right;\n",
       "    }\n",
       "</style>\n",
       "<table border=\"1\" class=\"dataframe\">\n",
       "  <thead>\n",
       "    <tr style=\"text-align: right;\">\n",
       "      <th></th>\n",
       "      <th>mrn</th>\n",
       "      <th>first_name</th>\n",
       "      <th>last_name</th>\n",
       "    </tr>\n",
       "  </thead>\n",
       "  <tbody>\n",
       "  </tbody>\n",
       "</table>\n",
       "</div>"
      ],
      "text/plain": [
       "Empty DataFrame\n",
       "Columns: [mrn, first_name, last_name]\n",
       "Index: []"
      ]
     },
     "execution_count": 7,
     "metadata": {},
     "output_type": "execute_result"
    }
   ],
   "source": [
    "#Can specify last name to look for in the Database.  \n",
    "d.search_name(last_name = \"Smith3\")"
   ]
  },
  {
   "cell_type": "code",
   "execution_count": 8,
   "id": "971055aa-5f48-47a5-858f-bfdfae326dcd",
   "metadata": {
    "tags": []
   },
   "outputs": [
    {
     "data": {
      "text/html": [
       "<div>\n",
       "<style scoped>\n",
       "    .dataframe tbody tr th:only-of-type {\n",
       "        vertical-align: middle;\n",
       "    }\n",
       "\n",
       "    .dataframe tbody tr th {\n",
       "        vertical-align: top;\n",
       "    }\n",
       "\n",
       "    .dataframe thead th {\n",
       "        text-align: right;\n",
       "    }\n",
       "</style>\n",
       "<table border=\"1\" class=\"dataframe\">\n",
       "  <thead>\n",
       "    <tr style=\"text-align: right;\">\n",
       "      <th></th>\n",
       "      <th>mrn</th>\n",
       "      <th>first_name</th>\n",
       "      <th>last_name</th>\n",
       "    </tr>\n",
       "  </thead>\n",
       "  <tbody>\n",
       "  </tbody>\n",
       "</table>\n",
       "</div>"
      ],
      "text/plain": [
       "Empty DataFrame\n",
       "Columns: [mrn, first_name, last_name]\n",
       "Index: []"
      ]
     },
     "execution_count": 8,
     "metadata": {},
     "output_type": "execute_result"
    }
   ],
   "source": [
    "#Specify First Name \n",
    "d.search_name(first_name = \"John3\")"
   ]
  },
  {
   "cell_type": "code",
   "execution_count": 9,
   "id": "b90cf37c-aa6a-4cba-9227-ffd6a6434fa9",
   "metadata": {
    "tags": []
   },
   "outputs": [
    {
     "data": {
      "text/html": [
       "<div>\n",
       "<style scoped>\n",
       "    .dataframe tbody tr th:only-of-type {\n",
       "        vertical-align: middle;\n",
       "    }\n",
       "\n",
       "    .dataframe tbody tr th {\n",
       "        vertical-align: top;\n",
       "    }\n",
       "\n",
       "    .dataframe thead th {\n",
       "        text-align: right;\n",
       "    }\n",
       "</style>\n",
       "<table border=\"1\" class=\"dataframe\">\n",
       "  <thead>\n",
       "    <tr style=\"text-align: right;\">\n",
       "      <th></th>\n",
       "      <th>mrn</th>\n",
       "      <th>first_name</th>\n",
       "      <th>last_name</th>\n",
       "    </tr>\n",
       "  </thead>\n",
       "  <tbody>\n",
       "  </tbody>\n",
       "</table>\n",
       "</div>"
      ],
      "text/plain": [
       "Empty DataFrame\n",
       "Columns: [mrn, first_name, last_name]\n",
       "Index: []"
      ]
     },
     "execution_count": 9,
     "metadata": {},
     "output_type": "execute_result"
    }
   ],
   "source": [
    "#Or Both\n",
    "d.search_name(first_name = \"John3\", last_name = \"Smith3\")"
   ]
  },
  {
   "cell_type": "markdown",
   "id": "316a9e32-98b4-4c33-a6ce-8c1e2292f34f",
   "metadata": {},
   "source": [
    "### 3. search()\n",
    "Lookup by tag.  Returns all data that matches a given tag.  CASE-SENSITIVE"
   ]
  },
  {
   "cell_type": "code",
   "execution_count": 10,
   "id": "281565cf-34c7-4924-ade1-fef92423c542",
   "metadata": {
    "tags": []
   },
   "outputs": [
    {
     "data": {
      "text/html": [
       "<div>\n",
       "<style scoped>\n",
       "    .dataframe tbody tr th:only-of-type {\n",
       "        vertical-align: middle;\n",
       "    }\n",
       "\n",
       "    .dataframe tbody tr th {\n",
       "        vertical-align: top;\n",
       "    }\n",
       "\n",
       "    .dataframe thead th {\n",
       "        text-align: right;\n",
       "    }\n",
       "</style>\n",
       "<table border=\"1\" class=\"dataframe\">\n",
       "  <thead>\n",
       "    <tr style=\"text-align: right;\">\n",
       "      <th></th>\n",
       "      <th>diagnosis</th>\n",
       "    </tr>\n",
       "    <tr>\n",
       "      <th>mrn</th>\n",
       "      <th></th>\n",
       "    </tr>\n",
       "  </thead>\n",
       "  <tbody>\n",
       "    <tr>\n",
       "      <th>333333</th>\n",
       "      <td>c61 - Malignant neoplasm of prostate</td>\n",
       "    </tr>\n",
       "    <tr>\n",
       "      <th>555555</th>\n",
       "      <td>c61 - Malignant neoplasm of prostate</td>\n",
       "    </tr>\n",
       "    <tr>\n",
       "      <th>666666</th>\n",
       "      <td>c61 - Malignant neoplasm of prostate</td>\n",
       "    </tr>\n",
       "    <tr>\n",
       "      <th>777777</th>\n",
       "      <td>c61 - Malignant neoplasm of prostate</td>\n",
       "    </tr>\n",
       "    <tr>\n",
       "      <th>888888</th>\n",
       "      <td>c61 - Malignant neoplasm of prostate</td>\n",
       "    </tr>\n",
       "  </tbody>\n",
       "</table>\n",
       "</div>"
      ],
      "text/plain": [
       "                                   diagnosis\n",
       "mrn                                         \n",
       "333333  c61 - Malignant neoplasm of prostate\n",
       "555555  c61 - Malignant neoplasm of prostate\n",
       "666666  c61 - Malignant neoplasm of prostate\n",
       "777777  c61 - Malignant neoplasm of prostate\n",
       "888888  c61 - Malignant neoplasm of prostate"
      ]
     },
     "execution_count": 10,
     "metadata": {},
     "output_type": "execute_result"
    }
   ],
   "source": [
    "d.search(\"diagnosis\")"
   ]
  },
  {
   "cell_type": "code",
   "execution_count": 11,
   "id": "ad6a065a-c793-434b-bf24-5189fa1da766",
   "metadata": {
    "tags": []
   },
   "outputs": [
    {
     "data": {
      "text/html": [
       "<div>\n",
       "<style scoped>\n",
       "    .dataframe tbody tr th:only-of-type {\n",
       "        vertical-align: middle;\n",
       "    }\n",
       "\n",
       "    .dataframe tbody tr th {\n",
       "        vertical-align: top;\n",
       "    }\n",
       "\n",
       "    .dataframe thead th {\n",
       "        text-align: right;\n",
       "    }\n",
       "</style>\n",
       "<table border=\"1\" class=\"dataframe\">\n",
       "  <thead>\n",
       "    <tr style=\"text-align: right;\">\n",
       "      <th></th>\n",
       "    </tr>\n",
       "  </thead>\n",
       "  <tbody>\n",
       "  </tbody>\n",
       "</table>\n",
       "</div>"
      ],
      "text/plain": [
       "Empty DataFrame\n",
       "Columns: []\n",
       "Index: []"
      ]
     },
     "execution_count": 11,
     "metadata": {},
     "output_type": "execute_result"
    }
   ],
   "source": [
    "d.search(tag=\"psa\", icd10='c61')"
   ]
  },
  {
   "cell_type": "markdown",
   "id": "63ce2d84-b6d0-4f1f-a9dd-fe8c4a29d30a",
   "metadata": {},
   "source": [
    "## Patient Interface\n",
    "A simplistic way to retrieve the data for each patient"
   ]
  },
  {
   "cell_type": "code",
   "execution_count": 12,
   "id": "48a815c5-bf13-4340-be48-df0b5cd942c0",
   "metadata": {
    "tags": []
   },
   "outputs": [],
   "source": [
    "p = d.Patient(mrn = '111111')"
   ]
  },
  {
   "cell_type": "code",
   "execution_count": 13,
   "id": "b8708793-afc6-49fe-ac85-d9512ed1dd06",
   "metadata": {
    "tags": []
   },
   "outputs": [
    {
     "data": {
      "text/plain": [
       "['dob', 'document', 'first_name', 'mrn']"
      ]
     },
     "execution_count": 13,
     "metadata": {},
     "output_type": "execute_result"
    }
   ],
   "source": [
    "#lists all the tags related to the patient with mrn 666666\n",
    "p.icd10_tags"
   ]
  },
  {
   "cell_type": "code",
   "execution_count": 14,
   "id": "54fcc6d9-b1fa-473b-bdb5-b6bff14fc692",
   "metadata": {
    "tags": []
   },
   "outputs": [
    {
     "data": {
      "text/plain": [
       "MRN: 111111\n",
       "\n",
       "dob:\n",
       "         date\n",
       "0  1952-12-17\n",
       "1  1952-12-17\n",
       "\n",
       "document:\n",
       "         date      type\n",
       "0  2023-12-06  clinical\n",
       "1  2022-12-06  clinical\n",
       "\n",
       "first_name:\n",
       "  first_name\n",
       "0   Chandler\n",
       "\n",
       "mrn:\n",
       "111111\n"
      ]
     },
     "execution_count": 14,
     "metadata": {},
     "output_type": "execute_result"
    }
   ],
   "source": [
    "#prints out all data relating to this patient\n",
    "p"
   ]
  },
  {
   "cell_type": "markdown",
   "id": "73b3be9c-5c1d-4735-a398-94c1a1d47f9c",
   "metadata": {},
   "source": [
    "## Pandas-like Indexing"
   ]
  },
  {
   "cell_type": "code",
   "execution_count": 15,
   "id": "87ecf0f4-f56f-4a65-8c0b-06f47d0b9d75",
   "metadata": {
    "tags": []
   },
   "outputs": [
    {
     "data": {
      "text/html": [
       "<div>\n",
       "<style scoped>\n",
       "    .dataframe tbody tr th:only-of-type {\n",
       "        vertical-align: middle;\n",
       "    }\n",
       "\n",
       "    .dataframe tbody tr th {\n",
       "        vertical-align: top;\n",
       "    }\n",
       "\n",
       "    .dataframe thead th {\n",
       "        text-align: right;\n",
       "    }\n",
       "</style>\n",
       "<table border=\"1\" class=\"dataframe\">\n",
       "  <thead>\n",
       "    <tr style=\"text-align: right;\">\n",
       "      <th></th>\n",
       "      <th>first_name</th>\n",
       "    </tr>\n",
       "  </thead>\n",
       "  <tbody>\n",
       "    <tr>\n",
       "      <th>0</th>\n",
       "      <td>Chandler</td>\n",
       "    </tr>\n",
       "  </tbody>\n",
       "</table>\n",
       "</div>"
      ],
      "text/plain": [
       "  first_name\n",
       "0   Chandler"
      ]
     },
     "execution_count": 15,
     "metadata": {},
     "output_type": "execute_result"
    }
   ],
   "source": [
    "p['first_name']"
   ]
  },
  {
   "cell_type": "code",
   "execution_count": 1,
   "id": "593eec03-0c9d-44e5-a402-092ea5724946",
   "metadata": {
    "tags": []
   },
   "outputs": [
    {
     "ename": "NameError",
     "evalue": "name 'p' is not defined",
     "output_type": "error",
     "traceback": [
      "\u001b[0;31m---------------------------------------------------------------------------\u001b[0m",
      "\u001b[0;31mNameError\u001b[0m                                 Traceback (most recent call last)",
      "Cell \u001b[0;32mIn[1], line 1\u001b[0m\n\u001b[0;32m----> 1\u001b[0m \u001b[43mp\u001b[49m[\u001b[38;5;124m'\u001b[39m\u001b[38;5;124mc61:psa\u001b[39m\u001b[38;5;124m'\u001b[39m]\n",
      "\u001b[0;31mNameError\u001b[0m: name 'p' is not defined"
     ]
    }
   ],
   "source": [
    "p['c61:psa']"
   ]
  },
  {
   "cell_type": "code",
   "execution_count": 17,
   "id": "22c61d26-2da9-4693-8afc-bc81482a1441",
   "metadata": {},
   "outputs": [
    {
     "ename": "AttributeError",
     "evalue": "'Patient' object has no attribute 'c61:external-radiation'",
     "output_type": "error",
     "traceback": [
      "\u001b[0;31m---------------------------------------------------------------------------\u001b[0m",
      "\u001b[0;31mAttributeError\u001b[0m                            Traceback (most recent call last)",
      "Cell \u001b[0;32mIn[17], line 1\u001b[0m\n\u001b[0;32m----> 1\u001b[0m \u001b[43mp\u001b[49m\u001b[43m[\u001b[49m\u001b[38;5;124;43m'\u001b[39;49m\u001b[38;5;124;43mc61:external-radiation\u001b[39;49m\u001b[38;5;124;43m'\u001b[39;49m\u001b[43m]\u001b[49m\n",
      "File \u001b[0;32m~/utils/Database.py:558\u001b[0m, in \u001b[0;36mPatient.__getitem__\u001b[0;34m(self, tag)\u001b[0m\n\u001b[1;32m    556\u001b[0m \u001b[38;5;250m\u001b[39m\u001b[38;5;124;03m'''Supports p[\"first_name\", \"last_name\"]'''\u001b[39;00m\n\u001b[1;32m    557\u001b[0m \u001b[38;5;28;01mif\u001b[39;00m \u001b[38;5;28misinstance\u001b[39m(tag, \u001b[38;5;28mstr\u001b[39m):\n\u001b[0;32m--> 558\u001b[0m     \u001b[38;5;28;01mreturn\u001b[39;00m \u001b[38;5;28;43mgetattr\u001b[39;49m\u001b[43m(\u001b[49m\u001b[38;5;28;43mself\u001b[39;49m\u001b[43m,\u001b[49m\u001b[43mtag\u001b[49m\u001b[43m)\u001b[49m\n\u001b[1;32m    559\u001b[0m \u001b[38;5;28;01melif\u001b[39;00m \u001b[38;5;28misinstance\u001b[39m(tag, Iterable):\n\u001b[1;32m    560\u001b[0m     l \u001b[38;5;241m=\u001b[39m []\n",
      "\u001b[0;31mAttributeError\u001b[0m: 'Patient' object has no attribute 'c61:external-radiation'"
     ]
    }
   ],
   "source": [
    "p['c61:external-radiation']"
   ]
  },
  {
   "cell_type": "code",
   "execution_count": 20,
   "id": "e1b45b3d-0257-42e3-84ee-29bf6950c51b",
   "metadata": {
    "tags": []
   },
   "outputs": [
    {
     "name": "stdout",
     "output_type": "stream",
     "text": [
      "  first_name\n",
      "0   Chandler\n",
      "  last_name\n",
      "0      Bing\n",
      "         date\n",
      "0  1952-12-17\n",
      "1  1952-12-17\n"
     ]
    }
   ],
   "source": [
    "#multi index.\n",
    "fname, lname, dob = p[\"first_name\", \"last_name\", \"dob\"]\n",
    "print(fname)\n",
    "print(lname)\n",
    "print(dob)"
   ]
  },
  {
   "cell_type": "markdown",
   "id": "9192528f-f222-438b-b612-695c5480d82c",
   "metadata": {},
   "source": [
    "## Example Use Case: Time Series"
   ]
  },
  {
   "cell_type": "code",
   "execution_count": 21,
   "id": "7fb1574c-4956-4da5-9f56-f883d72d5f14",
   "metadata": {
    "tags": []
   },
   "outputs": [],
   "source": [
    "#Fill these as seen fit.  For example, if one patient has prostate cancer, \n",
    "#in order to plot psa level vs time, then attr = c61.psa.\n",
    "mrn = 666666\n",
    "tag = 'c61:psa'\n",
    "attr = 'psa'\n",
    "p = d.Patient(mrn)\n"
   ]
  },
  {
   "cell_type": "code",
   "execution_count": 22,
   "id": "37b80caa-e9f1-48e5-9027-d8d46da1731f",
   "metadata": {
    "tags": []
   },
   "outputs": [
    {
     "name": "stdout",
     "output_type": "stream",
     "text": [
      "         date   psa   unit\n",
      "2  2019-10-10  0.87  ng/mL\n",
      "0  2021-06-22  5.36  ng/mL\n",
      "1  2021-07-23  2.22  ng/mL\n",
      "3  2021-08-24   1.5  ng/mL\n",
      "9  2022-09-14  0.83  ng/mL\n",
      "6  2022-10-19  0.08  ng/mL\n",
      "5  2022-11-16     0  ng/mL\n",
      "4  2023-05-17     0  ng/mL\n",
      "7  2023-10-16     0  ng/mL\n",
      "8  2023-12-15     0  ng/mL\n"
     ]
    },
    {
     "data": {
      "image/png": "[encoded data removed]",
      "text/plain": [
       "<Figure size 1000x800 with 1 Axes>"
      ]
     },
     "metadata": {},
     "output_type": "display_data"
    }
   ],
   "source": [
    "import matplotlib.pyplot as plt\n",
    "import pandas as pd\n",
    "def plotTimeSeries(x,y):\n",
    "    y = pd.to_numeric(y)  #Making sure that the y-axis is a numeric variable\n",
    "    fig,ax = plt.subplots()\n",
    "    fig.set_size_inches(10,8)\n",
    "    ax.tick_params(axis='x', labelrotation = 18)\n",
    "    ax.set_xlabel(x.name)\n",
    "    ax.set_ylabel(y.name)\n",
    "    ax.plot(x, y, marker = \"D\", linewidth = 2, markersize = 5)\n",
    "\n",
    "df = p[tag]\n",
    "df = df.sort_values(by = \"date\")\n",
    "print(df)\n",
    "\n",
    "x = df[\"date\"]\n",
    "y = df[attr] #fill in the specific datapoint that is wanted to be plotted against.\n",
    "\n",
    "plotTimeSeries(x,y)"
   ]
  },
  {
   "cell_type": "markdown",
   "id": "e93e62de-be79-489b-af80-43bf78a2c242",
   "metadata": {},
   "source": [
    "## One Last Method(For Debugging)"
   ]
  },
  {
   "cell_type": "code",
   "execution_count": 23,
   "id": "530e8daa-1be4-429b-8d35-810adb9b51bb",
   "metadata": {
    "tags": []
   },
   "outputs": [
    {
     "name": "stdout",
     "output_type": "stream",
     "text": [
      "Help on method rawdata in module utils.Database:\n",
      "\n",
      "rawdata(icd10_tag) method of utils.Database.Patient instance\n",
      "    Input: icd10_tag -> Output: data for that attribute in a list of dictionaries. \n",
      "    The data returned is exactly how it is stored in the SQL database.\n",
      "    For example: [{'name': 'date', 'type': 'date', 'value': '2022-11-28'}, {'name': 'psa', 'type': 'number', 'value': 0.16}, {'name': 'unit', 'type': 'list', 'value': 'ng/mL'}]\n",
      "    The rationale for the existence of this method is twofold.\n",
      "    1. There is a bug in setting an attribute due to a weird data entry or something else.\n",
      "    2. It is hard to access a single cell of data in a DataFrame.  A dictionary is a lot easier.\n",
      "\n"
     ]
    },
    {
     "data": {
      "text/plain": [
       "[[{'name': 'date', 'type': 'date', 'value': '2021-06-22'},\n",
       "  {'name': 'psa', 'type': 'number', 'value': 5.36},\n",
       "  {'name': 'unit', 'type': 'list', 'value': 'ng/mL'}],\n",
       " [{'name': 'date', 'type': 'date', 'value': '2021-07-23'},\n",
       "  {'name': 'psa', 'type': 'number', 'value': 2.22},\n",
       "  {'name': 'unit', 'type': 'list', 'value': 'ng/mL'}],\n",
       " [{'name': 'date', 'type': 'date', 'value': '2019-10-10'},\n",
       "  {'name': 'psa', 'type': 'number', 'value': 0.87},\n",
       "  {'name': 'unit', 'type': 'list', 'value': 'ng/mL'}],\n",
       " [{'name': 'date', 'type': 'date', 'value': '2021-08-24'},\n",
       "  {'name': 'psa', 'type': 'number', 'value': 1.5},\n",
       "  {'name': 'unit', 'type': 'list', 'value': 'ng/mL'}],\n",
       " [{'name': 'date', 'type': 'date', 'value': '2023-05-17'},\n",
       "  {'name': 'psa', 'type': 'number', 'value': '0'},\n",
       "  {'name': 'unit', 'type': 'list', 'value': 'ng/mL'}],\n",
       " [{'name': 'date', 'type': 'date', 'value': '2022-11-16'},\n",
       "  {'name': 'psa', 'type': 'number', 'value': '0'},\n",
       "  {'name': 'unit', 'type': 'list', 'value': 'ng/mL'}],\n",
       " [{'name': 'date', 'type': 'date', 'value': '2022-10-19'},\n",
       "  {'name': 'psa', 'type': 'number', 'value': 0.08},\n",
       "  {'name': 'unit', 'type': 'list', 'value': 'ng/mL'}],\n",
       " [{'name': 'date', 'type': 'date', 'value': '2023-10-16'},\n",
       "  {'name': 'psa', 'type': 'number', 'value': '0'},\n",
       "  {'name': 'unit', 'type': 'list', 'value': 'ng/mL'}],\n",
       " [{'name': 'date', 'type': 'date', 'value': '2023-12-15'},\n",
       "  {'name': 'psa', 'type': 'number', 'value': '0'},\n",
       "  {'name': 'unit', 'type': 'list', 'value': 'ng/mL'}],\n",
       " [{'name': 'date', 'type': 'date', 'value': '2022-09-14'},\n",
       "  {'name': 'psa', 'type': 'number', 'value': 0.83},\n",
       "  {'name': 'unit', 'type': 'list', 'value': 'ng/mL'}]]"
      ]
     },
     "execution_count": 23,
     "metadata": {},
     "output_type": "execute_result"
    }
   ],
   "source": [
    "help(p.rawdata)\n",
    "p.rawdata(\"c61:psa\")"
   ]
  },
  {
   "cell_type": "code",
   "execution_count": null,
   "id": "59e043b3-1302-4272-906e-72654908b8a4",
   "metadata": {},
   "outputs": [],
   "source": []
  },
  {
   "cell_type": "code",
   "execution_count": null,
   "id": "f5833e31-1c82-4964-ba5d-9f8c522ab4f4",
   "metadata": {},
   "outputs": [],
   "source": []
  },
  {
   "cell_type": "code",
   "execution_count": null,
   "id": "fe3f4c88-cd73-453b-872b-7ebcc9340859",
   "metadata": {},
   "outputs": [],
   "source": []
  }
 ],
 "metadata": {
  "kernelspec": {
   "display_name": "Python 3 (ipykernel)",
   "language": "python",
   "name": "python3"
  },
  "language_info": {
   "codemirror_mode": {
    "name": "ipython",
    "version": 3
   },
   "file_extension": ".py",
   "mimetype": "text/x-python",
   "name": "python",
   "nbconvert_exporter": "python",
   "pygments_lexer": "ipython3",
   "version": "3.10.11"
  }
 },
 "nbformat": 4,
 "nbformat_minor": 5
}
